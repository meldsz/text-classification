{
 "cells": [
  {
   "cell_type": "markdown",
   "metadata": {},
   "source": [
    "# COMP47670 - Assignment 2 - Text Classification\n",
    "**Student Name: Meleesha Mayola Dsouza, Nikil Mohan**<br>\n",
    "**Student Number: 18200024, 18200037**"
   ]
  },
  {
   "cell_type": "code",
   "execution_count": 60,
   "metadata": {},
   "outputs": [],
   "source": [
    "# Import the required libraries\n",
    "import os\n",
    "from bs4 import BeautifulSoup\n",
    "import requests\n",
    "import csv\n",
    "import pandas as pd\n",
    "import numpy as np\n",
    "import nltk\n",
    "from nltk.corpus import stopwords\n",
    "from nltk.tokenize import word_tokenize\n",
    "from nltk.stem import PorterStemmer, WordNetLemmatizer\n",
    "import matplotlib\n",
    "import matplotlib.pyplot as plt\n",
    "import seaborn as sns\n",
    "from sklearn.feature_extraction.text import TfidfVectorizer, CountVectorizer\n",
    "from sklearn.model_selection import train_test_split\n",
    "from sklearn.neighbors import KNeighborsClassifier\n",
    "from sklearn.naive_bayes import MultinomialNB\n",
    "from sklearn import linear_model\n",
    "from sklearn.model_selection import cross_val_score\n",
    "from sklearn.svm import SVC  \n",
    "from sklearn.metrics import *\n",
    "%matplotlib inline"
   ]
  },
  {
   "cell_type": "markdown",
   "metadata": {},
   "source": [
    "## Task 1: Selecting the review categories and scraping the data from the website\n",
    "\n",
    "We will be performing the following steps under Task 1:<br/>\n",
    "Step 1: Choosing the review categories. We have chosen the following \n",
    "    <br/>&emsp;&emsp;&emsp;&emsp;_Health and Medical_\n",
    "    <br/>&emsp;&emsp;&emsp;&emsp;_Automotive_<br/>\n",
    "Step 2: Scraping the user reviews from the websites using the python package Beautiful Soup<br/>\n",
    "Step 3: Assigning class labels as 'positive' or 'negative' based on the user provided star ratings<br/>\n",
    "Step 4: Storing the user reviews in separate csv files for different review categories<br/>\n",
    "Step 5: Importing from the csv files to dataframe for easy data science manipulations"
   ]
  },
  {
   "cell_type": "code",
   "execution_count": 2,
   "metadata": {},
   "outputs": [],
   "source": [
    "# For specifying the website, we append the individual webpages to the base website URL\n",
    "endpoint = 'http://mlg.ucd.ie/modules/yalp/'\n",
    "# The categories chosen have been represented in the form of a list\n",
    "categories = ['health_medical_list', 'automotive_list.html']\n",
    "\n",
    "# The extract_page function is created to extract the overall data present in the webpage\n",
    "def extract_page(url):\n",
    "    response = requests.get(url)\n",
    "    data = response.text\n",
    "    # We use the BeautifulSoup package to parse the data that is collected for webscraping\n",
    "    soup = BeautifulSoup(data,'html.parser')\n",
    "    return soup\n",
    "\n",
    "# The extract_reviews function is created to extract the reviews from the webpoge\n",
    "def extract_reviews(url):\n",
    "    soup = extract_page(url)\n",
    "    # We use the 'div' as the identifier as all the reviews are present within this tag\n",
    "    reviews_block = soup.findAll(\"div\", { \"class\" : \"review\" })\n",
    "    # We create a list called review_list to store all the reviews that are present in the category\n",
    "    review_list =[]\n",
    "    for reviews in reviews_block:\n",
    "        review = {}\n",
    "        # We use the 'img' as the identifier as all the ratings are present within this tag\n",
    "        star = reviews.find('img')\n",
    "        review[\"comments\"] = reviews.find(\"p\", { \"class\" : \"text\" }).get_text()\n",
    "        # We use the 'alt' attribute as the identifier as the rating present in this attribute can be easily obtained\n",
    "        # We use the concept of any rating having a value of 4 or 5 as Positive\n",
    "        # We use the concept of any rating having a value of 1, 2 or 3 as Negative\n",
    "        review[\"rating\"] = 'positive' if int(star.get('alt').split('-')[0]) >= 4 else 'negative'\n",
    "        review_list.append(review)        \n",
    "    return review_list\n",
    "\n",
    "# The extract_data function is created to extract the data from each of the review links\n",
    "# This function in turn calls the extract_page and the extract_reviews\n",
    "def extract_data(url):\n",
    "    soup = extract_page(url)\n",
    "    links = soup.find_all('a')\n",
    "    review_list =[]\n",
    "    for link in links:\n",
    "        # We identify the links of each of the reviews by extracting the values present in the href attribute\n",
    "        url = endpoint + link.get('href')\n",
    "        review = extract_reviews(url)\n",
    "        # We concatenate the reviews from all the links\n",
    "        review_list = review_list+review\n",
    "    return review_list\n",
    "\n",
    "# The create_database function is created to write the reviews and ratings to csv files for easier processing\n",
    "# The function will be called each time for each category\n",
    "def create_database(category_name, reviews):\n",
    "    header = reviews[0].keys()\n",
    "    with open(category_name, 'w',newline='', encoding=\"utf-8\") as output_file:\n",
    "        dict_writer = csv.DictWriter(output_file, header)\n",
    "        dict_writer.writeheader()\n",
    "        dict_writer.writerows(reviews)"
   ]
  },
  {
   "cell_type": "markdown",
   "metadata": {},
   "source": [
    "We create a database for Health and Medical reviews so that we can process them."
   ]
  },
  {
   "cell_type": "code",
   "execution_count": 3,
   "metadata": {},
   "outputs": [],
   "source": [
    "# We access the page for the reviews of the category 'Health and Medical'\n",
    "# We scrape the data using the functions defined by us\n",
    "# This data is stored in separate files in the csv format\n",
    "url = endpoint + categories[0]\n",
    "review_list = extract_data(url)\n",
    "create_database('Health_Medical.csv', review_list)"
   ]
  },
  {
   "cell_type": "markdown",
   "metadata": {},
   "source": [
    "We create a database for Automotive reviews so that we can process them."
   ]
  },
  {
   "cell_type": "code",
   "execution_count": 4,
   "metadata": {},
   "outputs": [],
   "source": [
    "# We access the page for the reviews of the category 'Automotive'\n",
    "# We scrape the data using the functions defined by us\n",
    "# This data is stored in separate files in the csv format\n",
    "url = endpoint + categories[1]\n",
    "review_list = extract_data(url)\n",
    "create_database('Automotive.csv', review_list)"
   ]
  },
  {
   "cell_type": "code",
   "execution_count": 5,
   "metadata": {},
   "outputs": [
    {
     "name": "stdout",
     "output_type": "stream",
     "text": [
      "Dimensions of the Health and Medical dataset: (1450, 2)\n",
      "\n",
      "\n",
      "rating\n",
      "negative     407\n",
      "positive    1043\n",
      "Name: rating, dtype: int64\n"
     ]
    },
    {
     "data": {
      "text/html": [
       "<div>\n",
       "<style scoped>\n",
       "    .dataframe tbody tr th:only-of-type {\n",
       "        vertical-align: middle;\n",
       "    }\n",
       "\n",
       "    .dataframe tbody tr th {\n",
       "        vertical-align: top;\n",
       "    }\n",
       "\n",
       "    .dataframe thead th {\n",
       "        text-align: right;\n",
       "    }\n",
       "</style>\n",
       "<table border=\"1\" class=\"dataframe\">\n",
       "  <thead>\n",
       "    <tr style=\"text-align: right;\">\n",
       "      <th></th>\n",
       "      <th>comments</th>\n",
       "      <th>rating</th>\n",
       "    </tr>\n",
       "  </thead>\n",
       "  <tbody>\n",
       "    <tr>\n",
       "      <th>0</th>\n",
       "      <td>I have so many good things to say about this p...</td>\n",
       "      <td>positive</td>\n",
       "    </tr>\n",
       "    <tr>\n",
       "      <th>1</th>\n",
       "      <td>I found them to be highly skilled and an exper...</td>\n",
       "      <td>positive</td>\n",
       "    </tr>\n",
       "    <tr>\n",
       "      <th>2</th>\n",
       "      <td>Where do I even begin? This office has been so...</td>\n",
       "      <td>positive</td>\n",
       "    </tr>\n",
       "    <tr>\n",
       "      <th>3</th>\n",
       "      <td>I went in because I had toothache and needed a...</td>\n",
       "      <td>positive</td>\n",
       "    </tr>\n",
       "    <tr>\n",
       "      <th>4</th>\n",
       "      <td>Found a new dental office. This place is amazi...</td>\n",
       "      <td>positive</td>\n",
       "    </tr>\n",
       "  </tbody>\n",
       "</table>\n",
       "</div>"
      ],
      "text/plain": [
       "                                            comments    rating\n",
       "0  I have so many good things to say about this p...  positive\n",
       "1  I found them to be highly skilled and an exper...  positive\n",
       "2  Where do I even begin? This office has been so...  positive\n",
       "3  I went in because I had toothache and needed a...  positive\n",
       "4  Found a new dental office. This place is amazi...  positive"
      ]
     },
     "execution_count": 5,
     "metadata": {},
     "output_type": "execute_result"
    }
   ],
   "source": [
    "# The dataframe dataset_A has the data obtained from csv containing Health and Medical reviews\n",
    "dataset_A = pd.read_csv('Health_Medical.csv')\n",
    "# We check the dimensions of the Health and Medical review data that we have\n",
    "print('Dimensions of the Health and Medical dataset: '+str(dataset_A.shape))\n",
    "print('\\n')\n",
    "# We also check the count of reviews in the Health and Medical dataset for each label, i.e. postive or negative\n",
    "print(dataset_A.groupby('rating')['rating'].count())\n",
    "# A preview of the data is shown\n",
    "dataset_A.head()"
   ]
  },
  {
   "cell_type": "code",
   "execution_count": 6,
   "metadata": {},
   "outputs": [
    {
     "name": "stdout",
     "output_type": "stream",
     "text": [
      "Dimensions of the Automotive dataset: (1455, 2)\n",
      "\n",
      "\n",
      "rating\n",
      "negative    482\n",
      "positive    973\n",
      "Name: rating, dtype: int64\n"
     ]
    },
    {
     "data": {
      "text/html": [
       "<div>\n",
       "<style scoped>\n",
       "    .dataframe tbody tr th:only-of-type {\n",
       "        vertical-align: middle;\n",
       "    }\n",
       "\n",
       "    .dataframe tbody tr th {\n",
       "        vertical-align: top;\n",
       "    }\n",
       "\n",
       "    .dataframe thead th {\n",
       "        text-align: right;\n",
       "    }\n",
       "</style>\n",
       "<table border=\"1\" class=\"dataframe\">\n",
       "  <thead>\n",
       "    <tr style=\"text-align: right;\">\n",
       "      <th></th>\n",
       "      <th>comments</th>\n",
       "      <th>rating</th>\n",
       "    </tr>\n",
       "  </thead>\n",
       "  <tbody>\n",
       "    <tr>\n",
       "      <th>0</th>\n",
       "      <td>I arrived at 3 PM and the dealership closed at...</td>\n",
       "      <td>positive</td>\n",
       "    </tr>\n",
       "    <tr>\n",
       "      <th>1</th>\n",
       "      <td>I dropped my car off on a Wednesday morning fo...</td>\n",
       "      <td>negative</td>\n",
       "    </tr>\n",
       "    <tr>\n",
       "      <th>2</th>\n",
       "      <td>My parents have been buying cars off of Donna ...</td>\n",
       "      <td>positive</td>\n",
       "    </tr>\n",
       "    <tr>\n",
       "      <th>3</th>\n",
       "      <td>I recently bought another car from Donna Dunni...</td>\n",
       "      <td>positive</td>\n",
       "    </tr>\n",
       "    <tr>\n",
       "      <th>4</th>\n",
       "      <td>I had to schedule an appointment due to the ai...</td>\n",
       "      <td>positive</td>\n",
       "    </tr>\n",
       "  </tbody>\n",
       "</table>\n",
       "</div>"
      ],
      "text/plain": [
       "                                            comments    rating\n",
       "0  I arrived at 3 PM and the dealership closed at...  positive\n",
       "1  I dropped my car off on a Wednesday morning fo...  negative\n",
       "2  My parents have been buying cars off of Donna ...  positive\n",
       "3  I recently bought another car from Donna Dunni...  positive\n",
       "4  I had to schedule an appointment due to the ai...  positive"
      ]
     },
     "execution_count": 6,
     "metadata": {},
     "output_type": "execute_result"
    }
   ],
   "source": [
    "# The dataframe dataset_B has the data obtained from csv containing Automotive reviews\n",
    "dataset_B = pd.read_csv('Automotive.csv')\n",
    "# We check the dimensions of the Automotive review data that we have\n",
    "print('Dimensions of the Automotive dataset: '+str(dataset_B.shape))\n",
    "print('\\n')\n",
    "# We also check the count of reviews in the Automotive dataset for each label, i.e. postive or negative\n",
    "print(dataset_B.groupby('rating')['rating'].count())\n",
    "# A preview of the data is shown\n",
    "dataset_B.head()"
   ]
  },
  {
   "cell_type": "markdown",
   "metadata": {},
   "source": [
    "## Task 2: Applying the pre-processing steps and building the classifier model"
   ]
  },
  {
   "cell_type": "markdown",
   "metadata": {},
   "source": [
    "To perform the preprocessing steps, we have used nltk packages. Some of the preprocessing steps done are as follows\n",
    "<br/>&emsp;&emsp;&emsp;&emsp;Tokenization\n",
    "<br/>&emsp;&emsp;&emsp;&emsp;Removal of punctuations\n",
    "<br/>&emsp;&emsp;&emsp;&emsp;Conversion to lower case\n",
    "<br/>&emsp;&emsp;&emsp;&emsp;Removal of stop words\n",
    "<br/><br/>\n",
    "\n",
    "We then use this preprocessed data to build the classifier models. We build a different classifier for each category of reviews to classify the positive and negative reviews. After building this classifier, we use an evaluation stategy to test the predictions for each of the classifiers. The evaluation strategy used in this assignment is the 10-fold cross-validation."
   ]
  },
  {
   "cell_type": "code",
   "execution_count": 7,
   "metadata": {},
   "outputs": [],
   "source": [
    "# The preprocess_text function is called to handle the preprocessing steps for each review individually\n",
    "def preprocess_text(text):\n",
    "    # The data that is passed as the input is first converted to lowercase to standardize it\n",
    "    # We then tokenize this data into individual tokens\n",
    "    tokenized_words = word_tokenize(text.lower())\n",
    "    # We remove the words which are not alpha-numeric like punctuations\n",
    "    normalised_words = [word for word in tokenized_words if word.isalnum()]\n",
    "    # We remove the stopwords in the corpus like 'is', 'an', etc. as they do not contribute to the efficiency of the classifier\n",
    "    filtered_words = [word for word in normalised_words if word.lower() not in stopwords.words('english')]\n",
    "    # we use a lemmatizer to reduce the inflected words to its lemma so that the classifer can identify them as a single word\n",
    "    lemmatizer = WordNetLemmatizer()\n",
    "    lemmatized_words = [lemmatizer.lemmatize(word) for word in filtered_words]\n",
    "    # we use stemmer to words to its stem\n",
    "    stemmer = PorterStemmer()\n",
    "    stemmed_words = [stemmer.stem(word) for word in lemmatized_words]\n",
    "    return ' '.join(stemmed_words)\n",
    "\n",
    "# The preprocess_reviews function is used to handle the pre-processing of all the reviews in the webpage\n",
    "# In turn, it calls the preprocess_text function to pre-process the reviews one by one\n",
    "def preprocess_reviews(dataset):\n",
    "    for indx, comments in enumerate(dataset['comments']):\n",
    "        dataset['comments'][indx] = preprocess_text(comments)"
   ]
  },
  {
   "cell_type": "code",
   "execution_count": 8,
   "metadata": {},
   "outputs": [
    {
     "data": {
      "text/html": [
       "<div>\n",
       "<style scoped>\n",
       "    .dataframe tbody tr th:only-of-type {\n",
       "        vertical-align: middle;\n",
       "    }\n",
       "\n",
       "    .dataframe tbody tr th {\n",
       "        vertical-align: top;\n",
       "    }\n",
       "\n",
       "    .dataframe thead th {\n",
       "        text-align: right;\n",
       "    }\n",
       "</style>\n",
       "<table border=\"1\" class=\"dataframe\">\n",
       "  <thead>\n",
       "    <tr style=\"text-align: right;\">\n",
       "      <th></th>\n",
       "      <th>comments</th>\n",
       "      <th>rating</th>\n",
       "    </tr>\n",
       "  </thead>\n",
       "  <tbody>\n",
       "    <tr>\n",
       "      <th>0</th>\n",
       "      <td>mani good thing say place need clean fill deci...</td>\n",
       "      <td>positive</td>\n",
       "    </tr>\n",
       "    <tr>\n",
       "      <th>1</th>\n",
       "      <td>found highli skill experienc dentistri will wo...</td>\n",
       "      <td>positive</td>\n",
       "    </tr>\n",
       "    <tr>\n",
       "      <th>2</th>\n",
       "      <td>even begin offic incred good famili love staff...</td>\n",
       "      <td>positive</td>\n",
       "    </tr>\n",
       "    <tr>\n",
       "      <th>3</th>\n",
       "      <td>went toothach need clean realli friendli promp...</td>\n",
       "      <td>positive</td>\n",
       "    </tr>\n",
       "    <tr>\n",
       "      <th>4</th>\n",
       "      <td>found new dental offic place amaz peopl work p...</td>\n",
       "      <td>positive</td>\n",
       "    </tr>\n",
       "  </tbody>\n",
       "</table>\n",
       "</div>"
      ],
      "text/plain": [
       "                                            comments    rating\n",
       "0  mani good thing say place need clean fill deci...  positive\n",
       "1  found highli skill experienc dentistri will wo...  positive\n",
       "2  even begin offic incred good famili love staff...  positive\n",
       "3  went toothach need clean realli friendli promp...  positive\n",
       "4  found new dental offic place amaz peopl work p...  positive"
      ]
     },
     "execution_count": 8,
     "metadata": {},
     "output_type": "execute_result"
    }
   ],
   "source": [
    "# We perform all the preprocessing steps on the reviews of the Health and Medical reviews\n",
    "preprocess_reviews(dataset_A)\n",
    "# We have displayed a few of the entries to show the difference between the data after preprocessing\n",
    "# The data before preprocessing for the Health and Medical datatset has already been displayed previously\n",
    "dataset_A.head()"
   ]
  },
  {
   "cell_type": "code",
   "execution_count": 9,
   "metadata": {},
   "outputs": [
    {
     "data": {
      "text/html": [
       "<div>\n",
       "<style scoped>\n",
       "    .dataframe tbody tr th:only-of-type {\n",
       "        vertical-align: middle;\n",
       "    }\n",
       "\n",
       "    .dataframe tbody tr th {\n",
       "        vertical-align: top;\n",
       "    }\n",
       "\n",
       "    .dataframe thead th {\n",
       "        text-align: right;\n",
       "    }\n",
       "</style>\n",
       "<table border=\"1\" class=\"dataframe\">\n",
       "  <thead>\n",
       "    <tr style=\"text-align: right;\">\n",
       "      <th></th>\n",
       "      <th>comments</th>\n",
       "      <th>rating</th>\n",
       "    </tr>\n",
       "  </thead>\n",
       "  <tbody>\n",
       "    <tr>\n",
       "      <th>0</th>\n",
       "      <td>arriv 3 pm dealership close 6 thought left ple...</td>\n",
       "      <td>positive</td>\n",
       "    </tr>\n",
       "    <tr>\n",
       "      <th>1</th>\n",
       "      <td>drop car wednesday morn diagnost john salmon t...</td>\n",
       "      <td>negative</td>\n",
       "    </tr>\n",
       "    <tr>\n",
       "      <th>2</th>\n",
       "      <td>parent buy car donna dunnivan decad alway sati...</td>\n",
       "      <td>positive</td>\n",
       "    </tr>\n",
       "    <tr>\n",
       "      <th>3</th>\n",
       "      <td>recent bought anoth car donna dunnivan 1 cochr...</td>\n",
       "      <td>positive</td>\n",
       "    </tr>\n",
       "    <tr>\n",
       "      <th>4</th>\n",
       "      <td>schedul appoint due airbag recal use websit st...</td>\n",
       "      <td>positive</td>\n",
       "    </tr>\n",
       "  </tbody>\n",
       "</table>\n",
       "</div>"
      ],
      "text/plain": [
       "                                            comments    rating\n",
       "0  arriv 3 pm dealership close 6 thought left ple...  positive\n",
       "1  drop car wednesday morn diagnost john salmon t...  negative\n",
       "2  parent buy car donna dunnivan decad alway sati...  positive\n",
       "3  recent bought anoth car donna dunnivan 1 cochr...  positive\n",
       "4  schedul appoint due airbag recal use websit st...  positive"
      ]
     },
     "execution_count": 9,
     "metadata": {},
     "output_type": "execute_result"
    }
   ],
   "source": [
    "# We perform all the preprocessing steps on the reviews of the Automotive reviews\n",
    "preprocess_reviews(dataset_B)\n",
    "# We have displayed a few of the entries to show the difference between the data after preprocessing\n",
    "# The data before preprocessing for the Automotive dataset has already been displayed previously\n",
    "dataset_B.head()"
   ]
  },
  {
   "cell_type": "markdown",
   "metadata": {},
   "source": [
    "### Merging the dataset as a preprocessing step to build the classifier\n",
    "\n",
    "We first merge the data from the dataset of two categrories so that we can apply the feature engineering steps required to process the data."
   ]
  },
  {
   "cell_type": "code",
   "execution_count": 10,
   "metadata": {},
   "outputs": [
    {
     "data": {
      "text/plain": [
       "(2905, 8631)"
      ]
     },
     "execution_count": 10,
     "metadata": {},
     "output_type": "execute_result"
    }
   ],
   "source": [
    "# Merging the two datasets to form a unified dataset\n",
    "merged_dataset = pd.concat([dataset_A,dataset_B])\n",
    "# Numeric representation of the dataset using tfidf vector\n",
    "tfidf_vectorizer = TfidfVectorizer()\n",
    "X_merged = tfidf_vectorizer.fit_transform(merged_dataset['comments'])\n",
    "# We set the target value for the classifier\n",
    "y_merged = merged_dataset['rating']\n",
    "X_merged.shape"
   ]
  },
  {
   "cell_type": "code",
   "execution_count": 11,
   "metadata": {},
   "outputs": [
    {
     "name": "stdout",
     "output_type": "stream",
     "text": [
      "1450\n",
      "1455\n"
     ]
    }
   ],
   "source": [
    "X_reviewSize_A=dataset_A.shape[0]\n",
    "X_reviewSize_B=dataset_B.shape[0]\n",
    "# Identifying the boundary of each review category to help split later\n",
    "print(X_reviewSize_A)\n",
    "print(X_reviewSize_B)"
   ]
  },
  {
   "cell_type": "markdown",
   "metadata": {},
   "source": [
    "We now split the data to the values corresponding to its review categories."
   ]
  },
  {
   "cell_type": "code",
   "execution_count": 12,
   "metadata": {},
   "outputs": [
    {
     "name": "stdout",
     "output_type": "stream",
     "text": [
      "(1450, 8631)\n",
      "(1455, 8631)\n"
     ]
    }
   ],
   "source": [
    "X_A = X_merged[:X_reviewSize_A]\n",
    "target_A = y_merged[:X_reviewSize_A]\n",
    "X_B = X_merged[X_reviewSize_A:]\n",
    "target_B = y_merged[X_reviewSize_A:]\n",
    "# Identifying the dimensions of the separated datasets\n",
    "print(X_A.shape)\n",
    "print(X_B.shape)"
   ]
  },
  {
   "cell_type": "markdown",
   "metadata": {},
   "source": [
    "### Building the classifier for the Health and Medical Review data\n",
    "\n",
    "We first apply standard text pre-processing steps to generate the document-term matrix for the reviews of Health and Medical category."
   ]
  },
  {
   "cell_type": "code",
   "execution_count": 13,
   "metadata": {},
   "outputs": [
    {
     "name": "stdout",
     "output_type": "stream",
     "text": [
      "The training set for Health and Medical reviews has 1015 examples\n",
      "The test set for Health and Medical reviews has 435 examples\n"
     ]
    }
   ],
   "source": [
    "# We partition the data to use for the classifier. We use a split of 70% training and 30% test data\n",
    "data_A_train, data_A_test, target_A_train, target_A_test = train_test_split(X_A, target_A, test_size=0.3)\n",
    "print(\"The training set for Health and Medical reviews has %d examples\" % data_A_train.shape[0] )\n",
    "print(\"The test set for Health and Medical reviews has %d examples\" % data_A_test.shape[0] )"
   ]
  },
  {
   "cell_type": "markdown",
   "metadata": {},
   "source": [
    "#### Experimenting with the Logistic Regression classifier."
   ]
  },
  {
   "cell_type": "code",
   "execution_count": 14,
   "metadata": {},
   "outputs": [
    {
     "name": "stdout",
     "output_type": "stream",
     "text": [
      "LogisticRegression(C=1.0, class_weight=None, dual=False, fit_intercept=True,\n",
      "          intercept_scaling=1, max_iter=100, multi_class='warn',\n",
      "          n_jobs=None, penalty='l2', random_state=None, solver='liblinear',\n",
      "          tol=0.0001, verbose=0, warm_start=False)\n"
     ]
    }
   ],
   "source": [
    "# For the purpose of classification for the Health and Medical reviews, we experiment using Logistic Regression\n",
    "model_A_logreg = linear_model.LogisticRegression(solver='liblinear')\n",
    "model_A_logreg.fit(data_A_train, target_A_train)\n",
    "print(model_A_logreg)"
   ]
  },
  {
   "cell_type": "code",
   "execution_count": 15,
   "metadata": {},
   "outputs": [
    {
     "name": "stdout",
     "output_type": "stream",
     "text": [
      "[[312   1]\n",
      " [ 62  60]]\n"
     ]
    }
   ],
   "source": [
    "# After training the model, we perform the actual prediction\n",
    "predicted_A_logreg = model_A_logreg.predict(data_A_test)\n",
    "# We build a confusion matrix so that we can see the classifiers performancee\n",
    "cm_A_logreg = confusion_matrix(target_A_test, predicted_A_logreg,labels=['positive','negative'])\n",
    "print(cm_A_logreg)"
   ]
  },
  {
   "cell_type": "code",
   "execution_count": 16,
   "metadata": {},
   "outputs": [
    {
     "name": "stdout",
     "output_type": "stream",
     "text": [
      "Accuracy of the Logistic Regression classifier = 0.86\n",
      "Precision (Positive) = 0.83\n",
      "Recall (Positive) = 1.00\n",
      "F1 (Positive) = 0.91\n"
     ]
    }
   ],
   "source": [
    "# We use metrics to check the performance of the Logistic regression clasifier on the Health and Medical review data\n",
    "CategoryA_accuracy_LogReg = accuracy_score(target_A_test, predicted_A_logreg)\n",
    "print(\"Accuracy of the Logistic Regression classifier = %.2f\" % CategoryA_accuracy_LogReg )\n",
    "# We indicate that we are interested in the Positive class here, which is labelled as \"positive\"\n",
    "print(\"Precision (Positive) = %.2f\" % precision_score(target_A_test, predicted_A_logreg, pos_label='positive') )\n",
    "print(\"Recall (Positive) = %.2f\" % recall_score(target_A_test, predicted_A_logreg, pos_label='positive') )\n",
    "print(\"F1 (Positive) = %.2f\" % f1_score(target_A_test, predicted_A_logreg, pos_label='positive') )"
   ]
  },
  {
   "cell_type": "code",
   "execution_count": 17,
   "metadata": {},
   "outputs": [
    {
     "name": "stdout",
     "output_type": "stream",
     "text": [
      "              precision    recall  f1-score   support\n",
      "\n",
      "    negative       0.98      0.49      0.66       122\n",
      "    positive       0.83      1.00      0.91       313\n",
      "\n",
      "   micro avg       0.86      0.86      0.86       435\n",
      "   macro avg       0.91      0.74      0.78       435\n",
      "weighted avg       0.88      0.86      0.84       435\n",
      "\n"
     ]
    }
   ],
   "source": [
    "# A summary of the statistics is generated using scikit-learn's built in methods\n",
    "print(classification_report(target_A_test, predicted_A_logreg, target_names=[\"negative\",\"positive\"]))"
   ]
  },
  {
   "cell_type": "markdown",
   "metadata": {},
   "source": [
    "A better evaluation mechanism would be to use the k-fold cross-validation approach. In the standard split, we are ignoring a part of the dataset. In this cross validation process, every portion of the data has the ability to be part of the training set at one point. Below, we have used a 10-fold cross validation method."
   ]
  },
  {
   "cell_type": "code",
   "execution_count": 18,
   "metadata": {},
   "outputs": [
    {
     "name": "stdout",
     "output_type": "stream",
     "text": [
      "Logistic Regression classifier for Health and Medical reviews: Mean cross-validation accuracy = 0.87\n"
     ]
    }
   ],
   "source": [
    "# Cross validation using 10 fold for the Logistic Regression approach used for classifying Health and Medical reviews\n",
    "acc_scores_A_logreg =  cross_val_score(model_A_logreg, X_A, target_A, cv=10, scoring=\"accuracy\")\n",
    "print(\"Logistic Regression classifier for Health and Medical reviews: Mean cross-validation accuracy = %.2f\" % acc_scores_A_logreg.mean() )"
   ]
  },
  {
   "cell_type": "markdown",
   "metadata": {},
   "source": [
    "#### Experimenting with the Naive Bayes classifier."
   ]
  },
  {
   "cell_type": "code",
   "execution_count": 19,
   "metadata": {},
   "outputs": [
    {
     "name": "stdout",
     "output_type": "stream",
     "text": [
      "MultinomialNB(alpha=1.0, class_prior=None, fit_prior=True)\n"
     ]
    }
   ],
   "source": [
    "# For the purpose of classification for the Health and Medical reviews, we experiment using Naive Bayes\n",
    "model_A_nb = MultinomialNB().fit(data_A_train, target_A_train)\n",
    "print(model_A_nb)"
   ]
  },
  {
   "cell_type": "code",
   "execution_count": 20,
   "metadata": {},
   "outputs": [
    {
     "name": "stdout",
     "output_type": "stream",
     "text": [
      "[[312   1]\n",
      " [118   4]]\n"
     ]
    }
   ],
   "source": [
    "# After training the model, we perform the actual prediction\n",
    "predicted_A_nb = model_A_nb.predict(data_A_test)\n",
    "# We build a confusion matrix so that we can see the classifiers performancee\n",
    "cm_A_nb = confusion_matrix(target_A_test, predicted_A_nb,labels=['positive','negative'])\n",
    "print(cm_A_nb)"
   ]
  },
  {
   "cell_type": "code",
   "execution_count": 21,
   "metadata": {},
   "outputs": [
    {
     "name": "stdout",
     "output_type": "stream",
     "text": [
      "Accuracy of the Naive Bayes classifier = 0.73\n",
      "Precision (Positive) = 0.73\n",
      "Recall (Positive) = 1.00\n",
      "F1 (Positive) = 0.84\n"
     ]
    }
   ],
   "source": [
    "# We use metrics to check the performance of the Naive Bayes clasifier on the Health and Medical review data\n",
    "CategoryA_accuracy_nb = accuracy_score(target_A_test, predicted_A_nb)\n",
    "print(\"Accuracy of the Naive Bayes classifier = %.2f\" % CategoryA_accuracy_nb )\n",
    "# We indicate that we are interested in the Positive class here, which is labelled as \"positive\"\n",
    "print(\"Precision (Positive) = %.2f\" % precision_score(target_A_test, predicted_A_nb, pos_label='positive') )\n",
    "print(\"Recall (Positive) = %.2f\" % recall_score(target_A_test, predicted_A_nb, pos_label='positive') )\n",
    "print(\"F1 (Positive) = %.2f\" % f1_score(target_A_test, predicted_A_nb, pos_label='positive') )"
   ]
  },
  {
   "cell_type": "code",
   "execution_count": 22,
   "metadata": {},
   "outputs": [
    {
     "name": "stdout",
     "output_type": "stream",
     "text": [
      "              precision    recall  f1-score   support\n",
      "\n",
      "    negative       0.80      0.03      0.06       122\n",
      "    positive       0.73      1.00      0.84       313\n",
      "\n",
      "   micro avg       0.73      0.73      0.73       435\n",
      "   macro avg       0.76      0.51      0.45       435\n",
      "weighted avg       0.75      0.73      0.62       435\n",
      "\n"
     ]
    }
   ],
   "source": [
    "# A summary of the statistics is generated using scikit-learn's built in methods\n",
    "print(classification_report(target_A_test, predicted_A_nb, target_names=[\"negative\",\"positive\"]))"
   ]
  },
  {
   "cell_type": "markdown",
   "metadata": {},
   "source": [
    "A better evaluation mechanism would be to use the k-fold cross-validation approach. In the standard split, we are ignoring a part of the dataset. In this cross validation process, every portion of the data has the ability to be part of the training set at one point. Below, we have used a 10-fold cross validation method."
   ]
  },
  {
   "cell_type": "code",
   "execution_count": 23,
   "metadata": {},
   "outputs": [
    {
     "name": "stdout",
     "output_type": "stream",
     "text": [
      "Naive Bayes classifier for Health and Medical reviews: Mean cross-validation accuracy = 0.73\n"
     ]
    }
   ],
   "source": [
    "# Cross validation using 10 fold for the Naive Bayes approach used for classifying Health and Medical reviews\n",
    "acc_scores_A_nb =  cross_val_score(model_A_nb, X_A, target_A, cv=10, scoring=\"accuracy\")\n",
    "print(\"Naive Bayes classifier for Health and Medical reviews: Mean cross-validation accuracy = %.2f\" % acc_scores_A_nb.mean() )"
   ]
  },
  {
   "cell_type": "markdown",
   "metadata": {},
   "source": [
    "From the experiments performed on the Health and Medical review data, we can see that the Logistic Regression and Naive Bayes classifier produces similar results.\n",
    "Due to the slight increase in accuracy of the Logistic Regression Model, we choose this model for evaluation in task 3."
   ]
  },
  {
   "cell_type": "markdown",
   "metadata": {},
   "source": [
    "### Building the classifier for the Automotive Review data\n",
    "\n",
    "We apply standard text pre-processing steps to generate the document-term matrix for the reviews of Automotive category."
   ]
  },
  {
   "cell_type": "code",
   "execution_count": 24,
   "metadata": {},
   "outputs": [
    {
     "name": "stdout",
     "output_type": "stream",
     "text": [
      "The training set for Automotive reviews has 1018 examples\n",
      "The test set for Automotive reviews has 437 examples\n"
     ]
    }
   ],
   "source": [
    "# We partition the data to use for the classifier. We use a split of 70% training and 30% test data\n",
    "data_B_train, data_B_test, target_B_train, target_B_test = train_test_split(X_B, target_B, test_size=0.3)\n",
    "print(\"The training set for Automotive reviews has %d examples\" % data_B_train.shape[0] )\n",
    "print(\"The test set for Automotive reviews has %d examples\" % data_B_test.shape[0] )"
   ]
  },
  {
   "cell_type": "markdown",
   "metadata": {},
   "source": [
    " #### Experimenting with the K-Nearest Neighbor (KNN) classifier."
   ]
  },
  {
   "cell_type": "code",
   "execution_count": 25,
   "metadata": {},
   "outputs": [
    {
     "name": "stdout",
     "output_type": "stream",
     "text": [
      "KNeighborsClassifier(algorithm='auto', leaf_size=30, metric='minkowski',\n",
      "           metric_params=None, n_jobs=None, n_neighbors=3, p=2,\n",
      "           weights='uniform')\n"
     ]
    }
   ],
   "source": [
    "# For the purpose of classification for the Automotive reviews, we use KNN where n=3\n",
    "model_B_knn = KNeighborsClassifier(n_neighbors=3)\n",
    "model_B_knn.fit(data_B_train, target_B_train)\n",
    "print(model_B_knn)"
   ]
  },
  {
   "cell_type": "code",
   "execution_count": 26,
   "metadata": {},
   "outputs": [
    {
     "name": "stdout",
     "output_type": "stream",
     "text": [
      "[[258  32]\n",
      " [ 58  89]]\n"
     ]
    }
   ],
   "source": [
    "# After training the model, we perform the actual prediction\n",
    "predicted_B_knn = model_B_knn.predict(data_B_test)\n",
    "# We build a confusion matrix so that we can see the classifiers performancee\n",
    "cm_B_knn = confusion_matrix(target_B_test, predicted_B_knn,labels=['positive','negative'])\n",
    "print(cm_B_knn)"
   ]
  },
  {
   "cell_type": "code",
   "execution_count": 27,
   "metadata": {},
   "outputs": [
    {
     "name": "stdout",
     "output_type": "stream",
     "text": [
      "Accuracy of the KNN classifier = 0.79\n",
      "Precision (Positive) = 0.82\n",
      "Recall (Positive) = 0.89\n",
      "F1 (Positive) = 0.85\n"
     ]
    }
   ],
   "source": [
    "# We use metrics to check the performance of the KNN clasifier on the Automotive review data\n",
    "CategoryB_accuracy_KNN = accuracy_score(target_B_test, predicted_B_knn)\n",
    "print(\"Accuracy of the KNN classifier = %.2f\" % CategoryB_accuracy_KNN )\n",
    "# We indicate that we are interested in the Positive class here, which is labelled as \"positive\"\n",
    "print(\"Precision (Positive) = %.2f\" % precision_score(target_B_test, predicted_B_knn, pos_label='positive') )\n",
    "print(\"Recall (Positive) = %.2f\" % recall_score(target_B_test, predicted_B_knn, pos_label='positive') )\n",
    "print(\"F1 (Positive) = %.2f\" % f1_score(target_B_test, predicted_B_knn, pos_label='positive') )"
   ]
  },
  {
   "cell_type": "code",
   "execution_count": 28,
   "metadata": {},
   "outputs": [
    {
     "name": "stdout",
     "output_type": "stream",
     "text": [
      "              precision    recall  f1-score   support\n",
      "\n",
      "    negative       0.74      0.61      0.66       147\n",
      "    positive       0.82      0.89      0.85       290\n",
      "\n",
      "   micro avg       0.79      0.79      0.79       437\n",
      "   macro avg       0.78      0.75      0.76       437\n",
      "weighted avg       0.79      0.79      0.79       437\n",
      "\n"
     ]
    }
   ],
   "source": [
    "# A summary of the statistics is generated using scikit-learn's built in methods\n",
    "print(classification_report(target_B_test, predicted_B_knn, target_names=[\"negative\",\"positive\"]))"
   ]
  },
  {
   "cell_type": "markdown",
   "metadata": {},
   "source": [
    "A better evaluation mechanism would be to use the k-fold cross-validation approach. In the standard split, we are ignoring a part of the dataset. In this cross validation process, every portion of the data has the ability to be part of the training set at one point. Below, we have used a 10-fold cross validation method."
   ]
  },
  {
   "cell_type": "code",
   "execution_count": 29,
   "metadata": {},
   "outputs": [
    {
     "name": "stdout",
     "output_type": "stream",
     "text": [
      "KNN classifier for Automotive reviews: Mean cross-validation accuracy = 0.69\n"
     ]
    }
   ],
   "source": [
    "# Cross validation using 10 fold for the KNN approach used for classifying Automotive reviews\n",
    "acc_scores_B_knn =  cross_val_score(model_B_knn, X_B, target_B, cv=10, scoring=\"accuracy\")\n",
    "print(\"KNN classifier for Automotive reviews: Mean cross-validation accuracy = %.2f\" % acc_scores_B_knn.mean() )"
   ]
  },
  {
   "cell_type": "markdown",
   "metadata": {},
   "source": [
    " #### Experimenting with the Support Vector Machine (SVM) classifier."
   ]
  },
  {
   "cell_type": "code",
   "execution_count": 30,
   "metadata": {},
   "outputs": [
    {
     "name": "stdout",
     "output_type": "stream",
     "text": [
      "SVC(C=1.0, cache_size=200, class_weight=None, coef0=0.0,\n",
      "  decision_function_shape='ovr', degree=3, gamma='auto', kernel='linear',\n",
      "  max_iter=-1, probability=False, random_state=None, shrinking=True,\n",
      "  tol=0.001, verbose=False)\n"
     ]
    }
   ],
   "source": [
    "# For the purpose of classification for the Automotive reviews, we use SVC\n",
    "model_B_svc = SVC(gamma='auto',kernel='linear')\n",
    "model_B_svc.fit(data_B_train, target_B_train)\n",
    "print(model_B_svc)"
   ]
  },
  {
   "cell_type": "code",
   "execution_count": 31,
   "metadata": {},
   "outputs": [
    {
     "name": "stdout",
     "output_type": "stream",
     "text": [
      "[[278  12]\n",
      " [ 27 120]]\n"
     ]
    }
   ],
   "source": [
    "# After training the model, we perform the actual prediction\n",
    "predicted_B_svc = model_B_svc.predict(data_B_test)\n",
    "# We build a confusion matrix so that we can see the classifiers performancee\n",
    "cm_B_svc = confusion_matrix(target_B_test, predicted_B_svc,labels=['positive','negative'])\n",
    "print(cm_B_svc)"
   ]
  },
  {
   "cell_type": "code",
   "execution_count": 32,
   "metadata": {},
   "outputs": [
    {
     "name": "stdout",
     "output_type": "stream",
     "text": [
      "Accuracy of the SVC classifier = 0.91\n",
      "Precision (Positive) = 0.91\n",
      "Recall (Positive) = 0.96\n",
      "F1 (Positive) = 0.93\n"
     ]
    }
   ],
   "source": [
    "# We use metrics to check the performance of the SVC clasifier on the Automotive review data\n",
    "CategoryB_accuracy_svc = accuracy_score(target_B_test, predicted_B_svc)\n",
    "print(\"Accuracy of the SVC classifier = %.2f\" % CategoryB_accuracy_svc )\n",
    "# We indicate that we are interested in the Positive class here, which is labelled as \"positive\"\n",
    "print(\"Precision (Positive) = %.2f\" % precision_score(target_B_test, predicted_B_svc, pos_label='positive') )\n",
    "print(\"Recall (Positive) = %.2f\" % recall_score(target_B_test, predicted_B_svc, pos_label='positive') )\n",
    "print(\"F1 (Positive) = %.2f\" % f1_score(target_B_test, predicted_B_svc, pos_label='positive') )"
   ]
  },
  {
   "cell_type": "code",
   "execution_count": 33,
   "metadata": {},
   "outputs": [
    {
     "name": "stdout",
     "output_type": "stream",
     "text": [
      "              precision    recall  f1-score   support\n",
      "\n",
      "    negative       0.91      0.82      0.86       147\n",
      "    positive       0.91      0.96      0.93       290\n",
      "\n",
      "   micro avg       0.91      0.91      0.91       437\n",
      "   macro avg       0.91      0.89      0.90       437\n",
      "weighted avg       0.91      0.91      0.91       437\n",
      "\n"
     ]
    }
   ],
   "source": [
    "# A summary of the statistics is generated using scikit-learn's built in methods\n",
    "print(classification_report(target_B_test, predicted_B_svc, target_names=[\"negative\",\"positive\"]))"
   ]
  },
  {
   "cell_type": "markdown",
   "metadata": {},
   "source": [
    "A better evaluation mechanism would be to use the k-fold cross-validation approach. In the standard split, we are ignoring a part of the dataset. In this cross validation process, every portion of the data has the ability to be part of the training set at one point. Below, we have used a 10-fold cross validation method."
   ]
  },
  {
   "cell_type": "code",
   "execution_count": 34,
   "metadata": {},
   "outputs": [
    {
     "name": "stdout",
     "output_type": "stream",
     "text": [
      "SVC classifier for Automotive reviews: Mean cross-validation accuracy = 0.88\n"
     ]
    }
   ],
   "source": [
    "# Cross validation using 10 fold for the SVC approach used for classifying Automotive reviews\n",
    "acc_scores_B_svc =  cross_val_score(model_B_svc, X_B, target_B, cv=10, scoring=\"accuracy\")\n",
    "print(\"SVC classifier for Automotive reviews: Mean cross-validation accuracy = %.2f\" % acc_scores_B_svc.mean() )"
   ]
  },
  {
   "cell_type": "markdown",
   "metadata": {},
   "source": [
    "From the experiments performed on the Automotive review data, we can see that the KNN and SVM classifier produced different results.\n",
    "Due to the drastic increase in accuracy of the SVM Model, we choose this model for evaluation in task 3."
   ]
  },
  {
   "cell_type": "code",
   "execution_count": 105,
   "metadata": {},
   "outputs": [],
   "source": [
    "Individual_Accuracy_results = [acc_scores_A_logreg.mean(), acc_scores_A_nb.mean(),acc_scores_B_knn.mean(),acc_scores_B_svc.mean()]"
   ]
  },
  {
   "cell_type": "code",
   "execution_count": 106,
   "metadata": {},
   "outputs": [
    {
     "data": {
      "image/png": "[encoded data removed]",
      "text/plain": [
       "<Figure size 576x432 with 1 Axes>"
      ]
     },
     "metadata": {
      "needs_background": "light"
     },
     "output_type": "display_data"
    }
   ],
   "source": [
    "# We plot the graph to show the difference in accuracies of each of the classifiers\n",
    "index = np.arange(len(Individual_Accuracy_results))\n",
    "plt.figure(figsize=(8,6))\n",
    "barlist = plt.bar(index, Individual_Accuracy_results, width=0.5)\n",
    "# Two colours are used to represent the bars because each colour represents the category on which the classifer was trained on\n",
    "barlist[0].set_color('c')\n",
    "barlist[1].set_color('c')\n",
    "barlist[2].set_color('g')\n",
    "barlist[3].set_color('g')\n",
    "plt.xlabel('Classifier',fontsize=14)\n",
    "plt.ylabel('Accuracy',fontsize=14)\n",
    "plt.xticks(index, [\"LogReg\",\"NaiveBayes\",\"KNN\",\"SVC\"])\n",
    "plt.title('Classifier accuracy')\n",
    "plt.show()"
   ]
  },
  {
   "cell_type": "markdown",
   "metadata": {},
   "source": [
    "The Logistic Regression and Naive Bayes classifier models were used on the Health and Medical Review dataset.<br/>\n",
    "The KNN and the SVC classifier models were used on the Automotive Review dataset.<br/>\n",
    "We choose the classifiers based on the accuracy obtained using the 10 fold cross validation technique.<br/>\n",
    "From the graph, it can be seen that the final classifiers chosen for Task 3 should be Logistic Regression and the SVM classifier for the respective categories."
   ]
  },
  {
   "cell_type": "markdown",
   "metadata": {},
   "source": [
    "## Task 3: Performance of classification models across categories"
   ]
  },
  {
   "cell_type": "markdown",
   "metadata": {},
   "source": [
    "In this section, we will use the classification model trained on the training data from one category to test it with the test data from the same category, as well as, test it with the entire data from the other category.<br/>We have already trained two different classifiers on the two categories of reviews chosen. The two classifiers used in the previous task will be used to check the performance across categories."
   ]
  },
  {
   "cell_type": "markdown",
   "metadata": {},
   "source": [
    "For the Health and Medical review category, we chose Logistic Regression Classifier with a train-test split of 30% as test data."
   ]
  },
  {
   "cell_type": "code",
   "execution_count": 90,
   "metadata": {},
   "outputs": [
    {
     "name": "stdout",
     "output_type": "stream",
     "text": [
      "Using the Logistic Regression classifier model on the test data of the Health and Medical Category, we have an accuracy of 0.86\n"
     ]
    }
   ],
   "source": [
    "print('Using the Logistic Regression classifier model on the test data of the Health and Medical Category, we have an accuracy of %.2f' % CategoryA_accuracy_LogReg)"
   ]
  },
  {
   "cell_type": "markdown",
   "metadata": {},
   "source": [
    "We will now use this Logistic Regression classifier model to test the data of the Automotive review Category"
   ]
  },
  {
   "cell_type": "code",
   "execution_count": 91,
   "metadata": {},
   "outputs": [
    {
     "name": "stdout",
     "output_type": "stream",
     "text": [
      "[[958  15]\n",
      " [262 220]]\n"
     ]
    }
   ],
   "source": [
    "# After training the model on Health and Medical reviews, we perform the prediction on Automotive reviews\n",
    "Prediction_diff_LogReg = model_A_logreg.predict(X_B)\n",
    "# We build a confusion matrix so that we can see the classifiers performancee\n",
    "cm_diff_logreg = confusion_matrix(target_B, Prediction_diff_LogReg,labels=['positive','negative'])\n",
    "print(cm_diff_logreg)"
   ]
  },
  {
   "cell_type": "code",
   "execution_count": 92,
   "metadata": {},
   "outputs": [
    {
     "name": "stdout",
     "output_type": "stream",
     "text": [
      "Accuracy of the Logistic Regression classifier = 0.81\n",
      "Precision (Positive) = 0.79\n",
      "Recall (Positive) = 0.98\n",
      "F1 (Positive) = 0.87\n"
     ]
    }
   ],
   "source": [
    "# We use metrics to check the performance of the Logistic regression clasifier on the Automotive data\n",
    "accuracy_diff_LogReg = accuracy_score(target_B, Prediction_diff_LogReg)\n",
    "print(\"Accuracy of the Logistic Regression classifier = %.2f\" % accuracy_diff_LogReg )\n",
    "# We indicate that we are interested in the Positive class here, which is labelled as \"positive\"\n",
    "print(\"Precision (Positive) = %.2f\" % precision_score(target_B, Prediction_diff_LogReg, pos_label='positive') )\n",
    "print(\"Recall (Positive) = %.2f\" % recall_score(target_B, Prediction_diff_LogReg, pos_label='positive') )\n",
    "print(\"F1 (Positive) = %.2f\" % f1_score(target_B, Prediction_diff_LogReg, pos_label='positive') )"
   ]
  },
  {
   "cell_type": "markdown",
   "metadata": {},
   "source": [
    "For the Automotive review category, we chose SVC Classifier and a train-test split of 30% as test data."
   ]
  },
  {
   "cell_type": "code",
   "execution_count": 99,
   "metadata": {},
   "outputs": [
    {
     "name": "stdout",
     "output_type": "stream",
     "text": [
      "Using the SVC classifier model on the test data of the Automotive Category, we have an accuracy of 0.91\n"
     ]
    }
   ],
   "source": [
    "print('Using the SVC classifier model on the test data of the Automotive Category, we have an accuracy of %.2f' % CategoryB_accuracy_svc)"
   ]
  },
  {
   "cell_type": "markdown",
   "metadata": {},
   "source": [
    "We will now use this SVC classifier model to test the data of the Health and Medical review Category"
   ]
  },
  {
   "cell_type": "code",
   "execution_count": 94,
   "metadata": {},
   "outputs": [
    {
     "name": "stdout",
     "output_type": "stream",
     "text": [
      "[[990  53]\n",
      " [ 79 328]]\n"
     ]
    }
   ],
   "source": [
    "# After training the model on Autmotive reviews, we perform the actual prediction on the Health and Medical reviews\n",
    "Prediction_diff_svc = model_B_svc.predict(X_A)\n",
    "# We build a confusion matrix so that we can see the classifiers performancee\n",
    "cm_diff_svc = confusion_matrix(target_A, Prediction_diff_svc,labels=['positive','negative'])\n",
    "print(cm_diff_svc)"
   ]
  },
  {
   "cell_type": "code",
   "execution_count": 95,
   "metadata": {},
   "outputs": [
    {
     "name": "stdout",
     "output_type": "stream",
     "text": [
      "Accuracy of the SVC classifier = 0.91\n",
      "Precision (Positive) = 0.93\n",
      "Recall (Positive) = 0.95\n",
      "F1 (Positive) = 0.94\n"
     ]
    }
   ],
   "source": [
    "# We use metrics to check the performance of the SVC clasifier on the Health and Medical data\n",
    "accuracy_diff_svc = accuracy_score(target_A, Prediction_diff_svc)\n",
    "print(\"Accuracy of the SVC classifier = %.2f\" % accuracy_diff_svc )\n",
    "# We indicate that we are interested in the Positive class here, which is labelled as \"positive\"\n",
    "print(\"Precision (Positive) = %.2f\" % precision_score(target_A, Prediction_diff_svc, pos_label='positive') )\n",
    "print(\"Recall (Positive) = %.2f\" % recall_score(target_A, Prediction_diff_svc, pos_label='positive') )\n",
    "print(\"F1 (Positive) = %.2f\" % f1_score(target_A, Prediction_diff_svc, pos_label='positive') )"
   ]
  },
  {
   "cell_type": "code",
   "execution_count": 116,
   "metadata": {},
   "outputs": [
    {
     "data": {
      "image/png": "[encoded data removed]",
      "text/plain": [
       "<Figure size 432x288 with 1 Axes>"
      ]
     },
     "metadata": {
      "needs_background": "light"
     },
     "output_type": "display_data"
    }
   ],
   "source": [
    "# We use accuracies from the simple hold out approach for the comparison\n",
    "LogReg_Accuracies=[CategoryA_accuracy_LogReg,accuracy_diff_LogReg]\n",
    "# We plot the graph to show the difference in accuracies of the LogReg classifier across categories\n",
    "index = np.arange(len(LogReg_Accuracies))\n",
    "barlist = plt.bar(index, LogReg_Accuracies)\n",
    "barlist[0].set_color('c')\n",
    "barlist[1].set_color('c')\n",
    "plt.xlabel('Category used',fontsize=14)\n",
    "plt.ylabel('Accuracy',fontsize=14)\n",
    "plt.xticks(index, [\"Health and Medical \\n(30% test)\",\"Automotive \\n(100% test)\"])\n",
    "plt.title('Classifier accuracy across categories')\n",
    "plt.show()"
   ]
  },
  {
   "cell_type": "code",
   "execution_count": 103,
   "metadata": {},
   "outputs": [
    {
     "name": "stdout",
     "output_type": "stream",
     "text": [
      "Summary of results when the classifier used was Logistic Regression:-\n",
      "\n",
      "Accuracy when Training data and Test data are both on Health and Medical Review = 0.86\n",
      "\n",
      "Accuracy when Training data is Health and Medical review, but Test data is Automotive review= 0.81\n"
     ]
    }
   ],
   "source": [
    "print(\"Summary of results when the classifier used was Logistic Regression:-\")\n",
    "print(\"\\nAccuracy when Training data and Test data are both on Health and Medical Review = %.2f\" % CategoryA_accuracy_LogReg)\n",
    "print(\"\\nAccuracy when Training data is Health and Medical review, but Test data is Automotive review= %.2f\" % accuracy_diff_LogReg)"
   ]
  },
  {
   "cell_type": "code",
   "execution_count": 118,
   "metadata": {},
   "outputs": [
    {
     "data": {
      "image/png": "[encoded data removed]",
      "text/plain": [
       "<Figure size 432x288 with 1 Axes>"
      ]
     },
     "metadata": {
      "needs_background": "light"
     },
     "output_type": "display_data"
    }
   ],
   "source": [
    "# We use accuracies from the simple hold out approach for the comparison\n",
    "SVC_Accuracies=[CategoryB_accuracy_svc,accuracy_diff_svc]\n",
    "# We plot the graph to show the difference in accuracies of the LogReg classifier across categories\n",
    "index = np.arange(len(SVC_Accuracies))\n",
    "barlist = plt.bar(index, SVC_Accuracies)\n",
    "barlist[0].set_color('g')\n",
    "barlist[1].set_color('g')\n",
    "plt.xlabel('Category used',fontsize=14)\n",
    "plt.ylabel('Accuracy',fontsize=14)\n",
    "plt.xticks(index, [\"Automotive \\n(30% test)\",\"Health and Medical \\n(100% test)\"])\n",
    "plt.title('Classifier accuracy across categories')\n",
    "plt.show()"
   ]
  },
  {
   "cell_type": "code",
   "execution_count": 102,
   "metadata": {},
   "outputs": [
    {
     "name": "stdout",
     "output_type": "stream",
     "text": [
      "Summary of results when the classifier used was Support Vector Machine (SVM):-\n",
      "\n",
      "Accuracy when Training data and Test data are both on Automotive Review = 0.91\n",
      "\n",
      "Accuracy when Training data is Automotive review, but Test data is Health and Medical review = 0.91\n"
     ]
    }
   ],
   "source": [
    "print(\"Summary of results when the classifier used was Support Vector Machine (SVM):-\")\n",
    "print(\"\\nAccuracy when Training data and Test data are both on Automotive Review = %.2f\" % CategoryB_accuracy_svc);\n",
    "print(\"\\nAccuracy when Training data is Automotive review, but Test data is Health and Medical review = %.2f\" % accuracy_diff_svc)"
   ]
  },
  {
   "cell_type": "markdown",
   "metadata": {},
   "source": [
    "The accuracy values of the classifiers are different but comparable when used on a category other than what it was trained on.<br/>This is because, each domain/category might have keywords that correspond to their domain/category alone. The classifier would not have identified these new keywords as an important factor in the classification as it still gives priority to the keywords it found in the category it was trained on.<br/>\n",
    "\n",
    "However, we also acknowledge that the classifier has shown a comparable accuracy with the data values for a different category, this could be because general words of praise/complaints are always similar no matter what category we choose."
   ]
  },
  {
   "cell_type": "code",
   "execution_count": null,
   "metadata": {},
   "outputs": [],
   "source": []
  }
 ],
 "metadata": {
  "kernelspec": {
   "display_name": "Python 3",
   "language": "python",
   "name": "python3"
  },
  "language_info": {
   "codemirror_mode": {
    "name": "ipython",
    "version": 3
   },
   "file_extension": ".py",
   "mimetype": "text/x-python",
   "name": "python",
   "nbconvert_exporter": "python",
   "pygments_lexer": "ipython3",
   "version": "3.7.1"
  }
 },
 "nbformat": 4,
 "nbformat_minor": 2
}
