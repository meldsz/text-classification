{
 "cells": [
  {
   "cell_type": "markdown",
   "metadata": {},
   "source": [
    "## COMP47670 - Assignment 2\n",
    "**Student Name: Meleesha Mayola Dsouza, Nikil Mohan**<br>\n",
    "**Student Number: 18200024, 18200037**"
   ]
  },
  {
   "cell_type": "code",
   "execution_count": 1,
   "metadata": {},
   "outputs": [],
   "source": [
    "# Import the required libraries\n",
    "import os\n",
    "from bs4 import BeautifulSoup\n",
    "import requests\n",
    "import csv\n",
    "import pandas as pd\n",
    "import nltk\n",
    "from nltk.corpus import stopwords\n",
    "from nltk.tokenize import word_tokenize\n",
    "import matplotlib\n",
    "import matplotlib.pyplot as plt\n",
    "%matplotlib inline"
   ]
  },
  {
   "cell_type": "markdown",
   "metadata": {},
   "source": [
    "## Selecting review categories\n",
    "\n",
    "For the purpose of this assignment we have chosen the following categories: \n",
    "1. Automotive\n",
    "2. Health and Medical"
   ]
  },
  {
   "cell_type": "code",
   "execution_count": 6,
   "metadata": {},
   "outputs": [],
   "source": [
    "endpoint = 'http://mlg.ucd.ie/modules/yalp/'\n",
    "categories = ['health_medical_list.html', 'automotive_list.html'] \n",
    "\n",
    "def extract_page(url):\n",
    "    response = requests.get(url)\n",
    "    data = response.text\n",
    "\n",
    "    soup = BeautifulSoup(data,'html.parser')\n",
    "    return soup\n",
    "\n",
    "def extract_reviews(url):\n",
    "    soup = extract_page(url)\n",
    "\n",
    "    reviews_block = soup.findAll(\"div\", { \"class\" : \"review\" })\n",
    "    review_list =[]\n",
    "    for reviews in reviews_block:\n",
    "        review = {}\n",
    "        star = reviews.find('img')\n",
    "        review[\"comments\"] = reviews.find(\"p\", { \"class\" : \"text\" }).get_text()\n",
    "        review[\"rating\"] = 'positive' if int(star.get('alt').split('-')[0]) >= 4 else 'negative'\n",
    "        review_list.append(review)\n",
    "        \n",
    "    return review_list\n",
    "\n",
    "def extract_data(url):\n",
    "    soup = extract_page(url)\n",
    "\n",
    "    links = soup.find_all('a')\n",
    "    review_list =[]\n",
    "    for link in links:\n",
    "        url = endpoint + link.get('href')\n",
    "        review = extract_reviews(url)\n",
    "        review_list = review_list+review #concatenate the reviews from all the links\n",
    "    return review_list\n",
    "        \n",
    "def create_database(category_name, reviews):\n",
    "    header = reviews[0].keys()\n",
    "    with open(category_name, 'w',newline='', encoding=\"utf-8\") as output_file:\n",
    "        dict_writer = csv.DictWriter(output_file, header)\n",
    "        dict_writer.writeheader()\n",
    "        dict_writer.writerows(reviews)\n"
   ]
  },
  {
   "cell_type": "markdown",
   "metadata": {},
   "source": [
    "Create database for category A, Health and medical reviews"
   ]
  },
  {
   "cell_type": "code",
   "execution_count": 7,
   "metadata": {},
   "outputs": [],
   "source": [
    "# extract Health and medical reviews\n",
    "url = endpoint + categories[0]\n",
    "review_list = extract_data(url)\n",
    "create_database('Health_Medical.csv', review_list)"
   ]
  },
  {
   "cell_type": "markdown",
   "metadata": {},
   "source": [
    "Create database for category B, Automotive reviews"
   ]
  },
  {
   "cell_type": "code",
   "execution_count": 8,
   "metadata": {},
   "outputs": [],
   "source": [
    "# extract Automotive reviews\n",
    "url = endpoint + categories[1]\n",
    "review_list = extract_data(url)\n",
    "create_database('Automotive.csv', review_list)"
   ]
  },
  {
   "cell_type": "code",
   "execution_count": 10,
   "metadata": {},
   "outputs": [
    {
     "name": "stdout",
     "output_type": "stream",
     "text": [
      "(1450, 2)\n",
      "(1455, 2)\n"
     ]
    }
   ],
   "source": [
    "dataset_A = pd.read_csv('Health_Medical.csv')\n",
    "print(dataset_A.shape)\n",
    "dataset_B = pd.read_csv('Automotive.csv')\n",
    "print(dataset_B.shape)"
   ]
  },
  {
   "cell_type": "code",
   "execution_count": 11,
   "metadata": {},
   "outputs": [
    {
     "data": {
      "text/html": [
       "<div>\n",
       "<style scoped>\n",
       "    .dataframe tbody tr th:only-of-type {\n",
       "        vertical-align: middle;\n",
       "    }\n",
       "\n",
       "    .dataframe tbody tr th {\n",
       "        vertical-align: top;\n",
       "    }\n",
       "\n",
       "    .dataframe thead th {\n",
       "        text-align: right;\n",
       "    }\n",
       "</style>\n",
       "<table border=\"1\" class=\"dataframe\">\n",
       "  <thead>\n",
       "    <tr style=\"text-align: right;\">\n",
       "      <th></th>\n",
       "      <th>comments</th>\n",
       "      <th>rating</th>\n",
       "    </tr>\n",
       "  </thead>\n",
       "  <tbody>\n",
       "    <tr>\n",
       "      <th>0</th>\n",
       "      <td>I have so many good things to say about this p...</td>\n",
       "      <td>positive</td>\n",
       "    </tr>\n",
       "    <tr>\n",
       "      <th>1</th>\n",
       "      <td>I found them to be highly skilled and an exper...</td>\n",
       "      <td>positive</td>\n",
       "    </tr>\n",
       "    <tr>\n",
       "      <th>2</th>\n",
       "      <td>Where do I even begin? This office has been so...</td>\n",
       "      <td>positive</td>\n",
       "    </tr>\n",
       "    <tr>\n",
       "      <th>3</th>\n",
       "      <td>I went in because I had toothache and needed a...</td>\n",
       "      <td>positive</td>\n",
       "    </tr>\n",
       "    <tr>\n",
       "      <th>4</th>\n",
       "      <td>Found a new dental office. This place is amazi...</td>\n",
       "      <td>positive</td>\n",
       "    </tr>\n",
       "  </tbody>\n",
       "</table>\n",
       "</div>"
      ],
      "text/plain": [
       "                                            comments    rating\n",
       "0  I have so many good things to say about this p...  positive\n",
       "1  I found them to be highly skilled and an exper...  positive\n",
       "2  Where do I even begin? This office has been so...  positive\n",
       "3  I went in because I had toothache and needed a...  positive\n",
       "4  Found a new dental office. This place is amazi...  positive"
      ]
     },
     "execution_count": 11,
     "metadata": {},
     "output_type": "execute_result"
    }
   ],
   "source": [
    "dataset_A.head()"
   ]
  },
  {
   "cell_type": "code",
   "execution_count": 40,
   "metadata": {},
   "outputs": [],
   "source": [
    "def preprocess_text(text):\n",
    "    # this function takes a text as an input \n",
    "    # tokenizes the text into individual tokens\n",
    "    tokenized_words = word_tokenize(text)\n",
    "    # removes the punctuation\n",
    "    normalised_words = [word for word in tokenized_words if word.isalpha()]\n",
    "    \n",
    "    # removes all the stop words\n",
    "    return ' '.join([word for word in normalised_words if word.lower() not in stopwords.words('english')])\n",
    "    "
   ]
  },
  {
   "cell_type": "markdown",
   "metadata": {},
   "source": [
    "TASK 2 cross validation"
   ]
  },
  {
   "cell_type": "markdown",
   "metadata": {},
   "source": [
    "task 3 hold out testing , i.e. train on data from one category and test on data from another."
   ]
  },
  {
   "cell_type": "markdown",
   "metadata": {},
   "source": []
  },
  {
   "cell_type": "code",
   "execution_count": 44,
   "metadata": {},
   "outputs": [],
   "source": [
    "def preprocess_reviews(dataset):\n",
    "    for indx, comments in enumerate(dataset['comments']):\n",
    "        dataset['comments'][indx] = preprocess_text(comments)"
   ]
  },
  {
   "cell_type": "code",
   "execution_count": 45,
   "metadata": {},
   "outputs": [],
   "source": [
    "preprocess_reviews(dataset_A)"
   ]
  },
  {
   "cell_type": "code",
   "execution_count": 46,
   "metadata": {},
   "outputs": [
    {
     "data": {
      "text/html": [
       "<div>\n",
       "<style scoped>\n",
       "    .dataframe tbody tr th:only-of-type {\n",
       "        vertical-align: middle;\n",
       "    }\n",
       "\n",
       "    .dataframe tbody tr th {\n",
       "        vertical-align: top;\n",
       "    }\n",
       "\n",
       "    .dataframe thead th {\n",
       "        text-align: right;\n",
       "    }\n",
       "</style>\n",
       "<table border=\"1\" class=\"dataframe\">\n",
       "  <thead>\n",
       "    <tr style=\"text-align: right;\">\n",
       "      <th></th>\n",
       "      <th>comments</th>\n",
       "      <th>rating</th>\n",
       "    </tr>\n",
       "  </thead>\n",
       "  <tbody>\n",
       "    <tr>\n",
       "      <th>0</th>\n",
       "      <td>many good things say place needed cleaning fil...</td>\n",
       "      <td>positive</td>\n",
       "    </tr>\n",
       "    <tr>\n",
       "      <th>1</th>\n",
       "      <td>found highly skilled experienced dentistry wil...</td>\n",
       "      <td>positive</td>\n",
       "    </tr>\n",
       "    <tr>\n",
       "      <th>2</th>\n",
       "      <td>even begin office incredibly good family love ...</td>\n",
       "      <td>positive</td>\n",
       "    </tr>\n",
       "    <tr>\n",
       "      <th>3</th>\n",
       "      <td>went toothache needed cleaning really friendly...</td>\n",
       "      <td>positive</td>\n",
       "    </tr>\n",
       "    <tr>\n",
       "      <th>4</th>\n",
       "      <td>Found new dental office place amazing people w...</td>\n",
       "      <td>positive</td>\n",
       "    </tr>\n",
       "  </tbody>\n",
       "</table>\n",
       "</div>"
      ],
      "text/plain": [
       "                                            comments    rating\n",
       "0  many good things say place needed cleaning fil...  positive\n",
       "1  found highly skilled experienced dentistry wil...  positive\n",
       "2  even begin office incredibly good family love ...  positive\n",
       "3  went toothache needed cleaning really friendly...  positive\n",
       "4  Found new dental office place amazing people w...  positive"
      ]
     },
     "execution_count": 46,
     "metadata": {},
     "output_type": "execute_result"
    }
   ],
   "source": [
    "dataset_A.head()"
   ]
  },
  {
   "cell_type": "code",
   "execution_count": 47,
   "metadata": {},
   "outputs": [],
   "source": [
    "preprocess_reviews(dataset_B)"
   ]
  },
  {
   "cell_type": "code",
   "execution_count": 49,
   "metadata": {},
   "outputs": [
    {
     "data": {
      "text/html": [
       "<div>\n",
       "<style scoped>\n",
       "    .dataframe tbody tr th:only-of-type {\n",
       "        vertical-align: middle;\n",
       "    }\n",
       "\n",
       "    .dataframe tbody tr th {\n",
       "        vertical-align: top;\n",
       "    }\n",
       "\n",
       "    .dataframe thead th {\n",
       "        text-align: right;\n",
       "    }\n",
       "</style>\n",
       "<table border=\"1\" class=\"dataframe\">\n",
       "  <thead>\n",
       "    <tr style=\"text-align: right;\">\n",
       "      <th></th>\n",
       "      <th>comments</th>\n",
       "      <th>rating</th>\n",
       "    </tr>\n",
       "  </thead>\n",
       "  <tbody>\n",
       "    <tr>\n",
       "      <th>0</th>\n",
       "      <td>arrived PM dealership closed thought left plen...</td>\n",
       "      <td>positive</td>\n",
       "    </tr>\n",
       "    <tr>\n",
       "      <th>1</th>\n",
       "      <td>dropped car Wednesday morning diagnostic John ...</td>\n",
       "      <td>negative</td>\n",
       "    </tr>\n",
       "    <tr>\n",
       "      <th>2</th>\n",
       "      <td>parents buying cars Donna Dunnivan decade alwa...</td>\n",
       "      <td>positive</td>\n",
       "    </tr>\n",
       "    <tr>\n",
       "      <th>3</th>\n",
       "      <td>recently bought another car Donna Dunnivan Coc...</td>\n",
       "      <td>positive</td>\n",
       "    </tr>\n",
       "    <tr>\n",
       "      <th>4</th>\n",
       "      <td>schedule appointment due airbag recall used we...</td>\n",
       "      <td>positive</td>\n",
       "    </tr>\n",
       "  </tbody>\n",
       "</table>\n",
       "</div>"
      ],
      "text/plain": [
       "                                            comments    rating\n",
       "0  arrived PM dealership closed thought left plen...  positive\n",
       "1  dropped car Wednesday morning diagnostic John ...  negative\n",
       "2  parents buying cars Donna Dunnivan decade alwa...  positive\n",
       "3  recently bought another car Donna Dunnivan Coc...  positive\n",
       "4  schedule appointment due airbag recall used we...  positive"
      ]
     },
     "execution_count": 49,
     "metadata": {},
     "output_type": "execute_result"
    }
   ],
   "source": [
    "dataset_B.head()"
   ]
  },
  {
   "cell_type": "code",
   "execution_count": null,
   "metadata": {},
   "outputs": [],
   "source": []
  }
 ],
 "metadata": {
  "kernelspec": {
   "display_name": "Python 3",
   "language": "python",
   "name": "python3"
  },
  "language_info": {
   "codemirror_mode": {
    "name": "ipython",
    "version": 3
   },
   "file_extension": ".py",
   "mimetype": "text/x-python",
   "name": "python",
   "nbconvert_exporter": "python",
   "pygments_lexer": "ipython3",
   "version": "3.6.8"
  }
 },
 "nbformat": 4,
 "nbformat_minor": 2
}
