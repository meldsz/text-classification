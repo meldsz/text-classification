{
 "cells": [
  {
   "cell_type": "markdown",
   "metadata": {},
   "source": [
    "# COMP47670 - Assignment 2 - Text Classification\n",
    "**Student Name: Meleesha Mayola Dsouza, Nikil Mohan**<br>\n",
    "**Student Number: 18200024, 18200037**"
   ]
  },
  {
   "cell_type": "code",
   "execution_count": 1,
   "metadata": {},
   "outputs": [],
   "source": [
    "# Import the required libraries\n",
    "import os\n",
    "from bs4 import BeautifulSoup\n",
    "import requests\n",
    "import csv\n",
    "import pandas as pd\n",
    "import nltk\n",
    "from nltk.corpus import stopwords\n",
    "from nltk.tokenize import word_tokenize\n",
    "import matplotlib\n",
    "import matplotlib.pyplot as plt\n",
    "%matplotlib inline"
   ]
  },
  {
   "cell_type": "markdown",
   "metadata": {},
   "source": [
    "## Task 1: Selecting the review categories and scraping the data\n",
    "\n",
    "For the purpose of this assignment, we have chosen the following categories: \n",
    "1. Health and Medical\n",
    "2. Automotive\n"
   ]
  },
  {
   "cell_type": "code",
   "execution_count": 5,
   "metadata": {},
   "outputs": [],
   "source": [
    "# For specifying the website, we append the individual webpages to the base website URL\n",
    "endpoint = 'http://mlg.ucd.ie/modules/yalp/'\n",
    "# The categories chosen have been represented in the form of a list\n",
    "categories = ['health_medical_list.html', 'automotive_list.html'] \n",
    "\n",
    "# The extract_page function is created to extract the overall data present in the webpage\n",
    "def extract_page(url):\n",
    "    response = requests.get(url)\n",
    "    data = response.text\n",
    "    # We use the BeautifulSoup package to parse the data that is collected for webscraping\n",
    "    soup = BeautifulSoup(data,'html.parser')\n",
    "    return soup\n",
    "\n",
    "# The extract_reviews function is created to extract the reviews from the webpoge\n",
    "def extract_reviews(url):\n",
    "    soup = extract_page(url)\n",
    "    # We use the 'div' as the identifier as all the reviews are present within this tag\n",
    "    reviews_block = soup.findAll(\"div\", { \"class\" : \"review\" })\n",
    "    # We create a list called review_list to store all the reviews that are present in the category\n",
    "    review_list =[]\n",
    "    for reviews in reviews_block:\n",
    "        review = {}\n",
    "        # We use the 'img' as the identifier as all the ratings are present within this tag\n",
    "        star = reviews.find('img')\n",
    "        review[\"comments\"] = reviews.find(\"p\", { \"class\" : \"text\" }).get_text()\n",
    "        # We use the 'alt' attribute as the identifier as the rating present in this attribute can be easily obtained\n",
    "        # We use the concept of any rating having a value of 4 or 5 as Positive\n",
    "        # We use the concept of any rating having a value of 1, 2 or 3 as Negative\n",
    "        review[\"rating\"] = 'positive' if int(star.get('alt').split('-')[0]) >= 4 else 'negative'\n",
    "        review_list.append(review)        \n",
    "    return review_list\n",
    "\n",
    "# The extract_data function is created to extract the data from each of the review links\n",
    "# This function in turn calls the extract_page and the extract_reviews\n",
    "def extract_data(url):\n",
    "    soup = extract_page(url)\n",
    "    links = soup.find_all('a')\n",
    "    review_list =[]\n",
    "    for link in links:\n",
    "        # We identify the links of each of the reviews by extracting the values present in the href attribute\n",
    "        url = endpoint + link.get('href')\n",
    "        review = extract_reviews(url)\n",
    "        # We concatenate the reviews from all the links\n",
    "        review_list = review_list+review\n",
    "    return review_list\n",
    "\n",
    "# The create_database function is created to write the reviews and ratings to csv files for easier processing\n",
    "# The function will be called each time for each category\n",
    "def create_database(category_name, reviews):\n",
    "    header = reviews[0].keys()\n",
    "    with open(category_name, 'w',newline='', encoding=\"utf-8\") as output_file:\n",
    "        dict_writer = csv.DictWriter(output_file, header)\n",
    "        dict_writer.writeheader()\n",
    "        dict_writer.writerows(reviews)\n"
   ]
  },
  {
   "cell_type": "markdown",
   "metadata": {},
   "source": [
    "Create database for category A, Health and medical reviews"
   ]
  },
  {
   "cell_type": "code",
   "execution_count": 6,
   "metadata": {},
   "outputs": [],
   "source": [
    "# We access the page for the reviews of the category 'Health and Medical'\n",
    "# We scrape the data using the functions defined by us\n",
    "# This data is stored in separate files in the csv format\n",
    "url = endpoint + categories[0]\n",
    "review_list = extract_data(url)\n",
    "create_database('Health_Medical.csv', review_list)"
   ]
  },
  {
   "cell_type": "markdown",
   "metadata": {},
   "source": [
    "Create database for category B, Automotive reviews"
   ]
  },
  {
   "cell_type": "code",
   "execution_count": 7,
   "metadata": {},
   "outputs": [],
   "source": [
    "# We access the page for the reviews of the category 'Automotive'\n",
    "# We scrape the data using the functions defined by us\n",
    "# This data is stored in separate files in the csv format\n",
    "url = endpoint + categories[1]\n",
    "review_list = extract_data(url)\n",
    "create_database('Automotive.csv', review_list)"
   ]
  },
  {
   "cell_type": "code",
   "execution_count": 14,
   "metadata": {},
   "outputs": [
    {
     "name": "stdout",
     "output_type": "stream",
     "text": [
      "(1450, 2)\n"
     ]
    },
    {
     "data": {
      "text/html": [
       "<div>\n",
       "<style scoped>\n",
       "    .dataframe tbody tr th:only-of-type {\n",
       "        vertical-align: middle;\n",
       "    }\n",
       "\n",
       "    .dataframe tbody tr th {\n",
       "        vertical-align: top;\n",
       "    }\n",
       "\n",
       "    .dataframe thead th {\n",
       "        text-align: right;\n",
       "    }\n",
       "</style>\n",
       "<table border=\"1\" class=\"dataframe\">\n",
       "  <thead>\n",
       "    <tr style=\"text-align: right;\">\n",
       "      <th></th>\n",
       "      <th>comments</th>\n",
       "      <th>rating</th>\n",
       "    </tr>\n",
       "  </thead>\n",
       "  <tbody>\n",
       "    <tr>\n",
       "      <th>0</th>\n",
       "      <td>I have so many good things to say about this p...</td>\n",
       "      <td>positive</td>\n",
       "    </tr>\n",
       "    <tr>\n",
       "      <th>1</th>\n",
       "      <td>I found them to be highly skilled and an exper...</td>\n",
       "      <td>positive</td>\n",
       "    </tr>\n",
       "    <tr>\n",
       "      <th>2</th>\n",
       "      <td>Where do I even begin? This office has been so...</td>\n",
       "      <td>positive</td>\n",
       "    </tr>\n",
       "    <tr>\n",
       "      <th>3</th>\n",
       "      <td>I went in because I had toothache and needed a...</td>\n",
       "      <td>positive</td>\n",
       "    </tr>\n",
       "    <tr>\n",
       "      <th>4</th>\n",
       "      <td>Found a new dental office. This place is amazi...</td>\n",
       "      <td>positive</td>\n",
       "    </tr>\n",
       "  </tbody>\n",
       "</table>\n",
       "</div>"
      ],
      "text/plain": [
       "                                            comments    rating\n",
       "0  I have so many good things to say about this p...  positive\n",
       "1  I found them to be highly skilled and an exper...  positive\n",
       "2  Where do I even begin? This office has been so...  positive\n",
       "3  I went in because I had toothache and needed a...  positive\n",
       "4  Found a new dental office. This place is amazi...  positive"
      ]
     },
     "execution_count": 14,
     "metadata": {},
     "output_type": "execute_result"
    }
   ],
   "source": [
    "# The dataframe dataset_A is a dataframe that has the data obtained from csv\n",
    "dataset_A = pd.read_csv('Health_Medical.csv')\n",
    "print(dataset_A.shape)\n",
    "dataset_A.head()"
   ]
  },
  {
   "cell_type": "code",
   "execution_count": 15,
   "metadata": {},
   "outputs": [
    {
     "name": "stdout",
     "output_type": "stream",
     "text": [
      "(1455, 2)\n"
     ]
    },
    {
     "data": {
      "text/html": [
       "<div>\n",
       "<style scoped>\n",
       "    .dataframe tbody tr th:only-of-type {\n",
       "        vertical-align: middle;\n",
       "    }\n",
       "\n",
       "    .dataframe tbody tr th {\n",
       "        vertical-align: top;\n",
       "    }\n",
       "\n",
       "    .dataframe thead th {\n",
       "        text-align: right;\n",
       "    }\n",
       "</style>\n",
       "<table border=\"1\" class=\"dataframe\">\n",
       "  <thead>\n",
       "    <tr style=\"text-align: right;\">\n",
       "      <th></th>\n",
       "      <th>comments</th>\n",
       "      <th>rating</th>\n",
       "    </tr>\n",
       "  </thead>\n",
       "  <tbody>\n",
       "    <tr>\n",
       "      <th>0</th>\n",
       "      <td>I arrived at 3 PM and the dealership closed at...</td>\n",
       "      <td>positive</td>\n",
       "    </tr>\n",
       "    <tr>\n",
       "      <th>1</th>\n",
       "      <td>I dropped my car off on a Wednesday morning fo...</td>\n",
       "      <td>negative</td>\n",
       "    </tr>\n",
       "    <tr>\n",
       "      <th>2</th>\n",
       "      <td>My parents have been buying cars off of Donna ...</td>\n",
       "      <td>positive</td>\n",
       "    </tr>\n",
       "    <tr>\n",
       "      <th>3</th>\n",
       "      <td>I recently bought another car from Donna Dunni...</td>\n",
       "      <td>positive</td>\n",
       "    </tr>\n",
       "    <tr>\n",
       "      <th>4</th>\n",
       "      <td>I had to schedule an appointment due to the ai...</td>\n",
       "      <td>positive</td>\n",
       "    </tr>\n",
       "  </tbody>\n",
       "</table>\n",
       "</div>"
      ],
      "text/plain": [
       "                                            comments    rating\n",
       "0  I arrived at 3 PM and the dealership closed at...  positive\n",
       "1  I dropped my car off on a Wednesday morning fo...  negative\n",
       "2  My parents have been buying cars off of Donna ...  positive\n",
       "3  I recently bought another car from Donna Dunni...  positive\n",
       "4  I had to schedule an appointment due to the ai...  positive"
      ]
     },
     "execution_count": 15,
     "metadata": {},
     "output_type": "execute_result"
    }
   ],
   "source": [
    "# The dataframe dataset_B is a dataframe that has the data obtained from csv\n",
    "dataset_B = pd.read_csv('Automotive.csv')\n",
    "print(dataset_B.shape)\n",
    "dataset_B.head()"
   ]
  },
  {
   "cell_type": "code",
   "execution_count": null,
   "metadata": {},
   "outputs": [],
   "source": [
    "def preprocess_text(text):\n",
    "    # this function takes a text as an input \n",
    "    # tokenizes the text into individual tokens\n",
    "    tokenized_words = word_tokenize(text)\n",
    "    # removes the punctuation\n",
    "    normalised_words = [word for word in tokenized_words if word.isalpha()]\n",
    "    \n",
    "    # removes all the stop words\n",
    "    return ' '.join([word for word in normalised_words if word.lower() not in stopwords.words('english')])\n",
    "    "
   ]
  },
  {
   "cell_type": "markdown",
   "metadata": {},
   "source": [
    "TASK 2 cross validation"
   ]
  },
  {
   "cell_type": "markdown",
   "metadata": {},
   "source": [
    "task 3 hold out testing , i.e. train on data from one category and test on data from another."
   ]
  },
  {
   "cell_type": "markdown",
   "metadata": {},
   "source": []
  },
  {
   "cell_type": "code",
   "execution_count": null,
   "metadata": {},
   "outputs": [],
   "source": [
    "def preprocess_reviews(dataset):\n",
    "    for indx, comments in enumerate(dataset['comments']):\n",
    "        dataset['comments'][indx] = preprocess_text(comments)"
   ]
  },
  {
   "cell_type": "code",
   "execution_count": null,
   "metadata": {},
   "outputs": [],
   "source": [
    "preprocess_reviews(dataset_A)"
   ]
  },
  {
   "cell_type": "code",
   "execution_count": null,
   "metadata": {},
   "outputs": [],
   "source": [
    "dataset_A.head()"
   ]
  },
  {
   "cell_type": "code",
   "execution_count": null,
   "metadata": {},
   "outputs": [],
   "source": [
    "preprocess_reviews(dataset_B)"
   ]
  },
  {
   "cell_type": "code",
   "execution_count": null,
   "metadata": {},
   "outputs": [],
   "source": [
    "dataset_B.head()"
   ]
  },
  {
   "cell_type": "code",
   "execution_count": null,
   "metadata": {},
   "outputs": [],
   "source": []
  }
 ],
 "metadata": {
  "kernelspec": {
   "display_name": "Python 3",
   "language": "python",
   "name": "python3"
  },
  "language_info": {
   "codemirror_mode": {
    "name": "ipython",
    "version": 3
   },
   "file_extension": ".py",
   "mimetype": "text/x-python",
   "name": "python",
   "nbconvert_exporter": "python",
   "pygments_lexer": "ipython3",
   "version": "3.7.1"
  }
 },
 "nbformat": 4,
 "nbformat_minor": 2
}
