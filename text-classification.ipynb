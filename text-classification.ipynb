{
 "cells": [
  {
   "cell_type": "markdown",
   "metadata": {},
   "source": [
    "# COMP47670 - Assignment 2 - Text Classification\n",
    "**Student Name: Meleesha Mayola Dsouza, Nikil Mohan**<br>\n",
    "**Student Number: 18200024, 18200037**"
   ]
  },
  {
   "cell_type": "code",
   "execution_count": 5,
   "metadata": {},
   "outputs": [],
   "source": [
    "# Import the required libraries\n",
    "import os\n",
    "from bs4 import BeautifulSoup\n",
    "import requests\n",
    "import csv\n",
    "import pandas as pd\n",
    "import nltk\n",
    "from nltk.corpus import stopwords\n",
    "from nltk.tokenize import word_tokenize\n",
    "import matplotlib\n",
    "import matplotlib.pyplot as plt\n",
    "from sklearn.feature_extraction.text import TfidfVectorizer, CountVectorizer\n",
    "from sklearn.model_selection import train_test_split\n",
    "from sklearn.neighbors import KNeighborsClassifier\n",
    "from sklearn.naive_bayes import MultinomialNB\n",
    "from sklearn import linear_model\n",
    "from sklearn.model_selection import cross_val_score\n",
    "from sklearn.svm import SVC  \n",
    "from sklearn.metrics import *\n",
    "%matplotlib inline"
   ]
  },
  {
   "cell_type": "markdown",
   "metadata": {},
   "source": [
    "## Task 1: Selecting the review categories and scraping the data from the website\n",
    "\n",
    "We will be performing the following steps under task 1:<br/>\n",
    "Step 1: Choosing the review categories. We have chosen the following \n",
    "    <br/>&emsp;&emsp;&emsp;&emsp;_Health and Medical_\n",
    "    <br/>&emsp;&emsp;&emsp;&emsp;_Automotive_<br/>\n",
    "Step 2: Scraping the user reviews from the websites using the python package Beautiful Soup<br/>\n",
    "Step 3: Assigning class labels as 'positive' or 'negative' based on the user provided star ratings<br/>\n",
    "Step 4: Storing the user reviews in separate csv files for different review categories<br/>\n",
    "Step 5: Importing from the csv files to dataframe for easy data science manipulations"
   ]
  },
  {
   "cell_type": "code",
   "execution_count": 6,
   "metadata": {},
   "outputs": [],
   "source": [
    "# For specifying the website, we append the individual webpages to the base website URL\n",
    "endpoint = 'http://mlg.ucd.ie/modules/yalp/'\n",
    "# The categories chosen have been represented in the form of a list\n",
    "categories = ['hotels_travel_list', 'automotive_list.html']\n",
    "\n",
    "# The extract_page function is created to extract the overall data present in the webpage\n",
    "def extract_page(url):\n",
    "    response = requests.get(url)\n",
    "    data = response.text\n",
    "    # We use the BeautifulSoup package to parse the data that is collected for webscraping\n",
    "    soup = BeautifulSoup(data,'html.parser')\n",
    "    return soup\n",
    "\n",
    "# The extract_reviews function is created to extract the reviews from the webpoge\n",
    "def extract_reviews(url):\n",
    "    soup = extract_page(url)\n",
    "    # We use the 'div' as the identifier as all the reviews are present within this tag\n",
    "    reviews_block = soup.findAll(\"div\", { \"class\" : \"review\" })\n",
    "    # We create a list called review_list to store all the reviews that are present in the category\n",
    "    review_list =[]\n",
    "    for reviews in reviews_block:\n",
    "        review = {}\n",
    "        # We use the 'img' as the identifier as all the ratings are present within this tag\n",
    "        star = reviews.find('img')\n",
    "        review[\"comments\"] = reviews.find(\"p\", { \"class\" : \"text\" }).get_text()\n",
    "        # We use the 'alt' attribute as the identifier as the rating present in this attribute can be easily obtained\n",
    "        # We use the concept of any rating having a value of 4 or 5 as Positive\n",
    "        # We use the concept of any rating having a value of 1, 2 or 3 as Negative\n",
    "        review[\"rating\"] = 'positive' if int(star.get('alt').split('-')[0]) >= 4 else 'negative'\n",
    "        review_list.append(review)        \n",
    "    return review_list\n",
    "\n",
    "# The extract_data function is created to extract the data from each of the review links\n",
    "# This function in turn calls the extract_page and the extract_reviews\n",
    "def extract_data(url):\n",
    "    soup = extract_page(url)\n",
    "    links = soup.find_all('a')\n",
    "    review_list =[]\n",
    "    for link in links:\n",
    "        # We identify the links of each of the reviews by extracting the values present in the href attribute\n",
    "        url = endpoint + link.get('href')\n",
    "        review = extract_reviews(url)\n",
    "        # We concatenate the reviews from all the links\n",
    "        review_list = review_list+review\n",
    "    return review_list\n",
    "\n",
    "# The create_database function is created to write the reviews and ratings to csv files for easier processing\n",
    "# The function will be called each time for each category\n",
    "def create_database(category_name, reviews):\n",
    "    header = reviews[0].keys()\n",
    "    with open(category_name, 'w',newline='', encoding=\"utf-8\") as output_file:\n",
    "        dict_writer = csv.DictWriter(output_file, header)\n",
    "        dict_writer.writeheader()\n",
    "        dict_writer.writerows(reviews)"
   ]
  },
  {
   "cell_type": "markdown",
   "metadata": {},
   "source": [
    "We create a database for Health and Medical reviews so that we can process them."
   ]
  },
  {
   "cell_type": "code",
   "execution_count": 7,
   "metadata": {},
   "outputs": [],
   "source": [
    "# We access the page for the reviews of the category 'Health and Medical'\n",
    "# We scrape the data using the functions defined by us\n",
    "# This data is stored in separate files in the csv format\n",
    "url = endpoint + categories[0]\n",
    "review_list = extract_data(url)\n",
    "create_database('Health_Medical.csv', review_list)"
   ]
  },
  {
   "cell_type": "markdown",
   "metadata": {},
   "source": [
    "We create a database for Automotive reviews so that we can process them."
   ]
  },
  {
   "cell_type": "code",
   "execution_count": 8,
   "metadata": {},
   "outputs": [],
   "source": [
    "# We access the page for the reviews of the category 'Automotive'\n",
    "# We scrape the data using the functions defined by us\n",
    "# This data is stored in separate files in the csv format\n",
    "url = endpoint + categories[1]\n",
    "review_list = extract_data(url)\n",
    "create_database('Automotive.csv', review_list)"
   ]
  },
  {
   "cell_type": "code",
   "execution_count": 9,
   "metadata": {},
   "outputs": [
    {
     "name": "stdout",
     "output_type": "stream",
     "text": [
      "Dimensions of the Health and Medical dataset: (1430, 2)\n",
      "\n",
      "\n",
      "rating\n",
      "negative    637\n",
      "positive    793\n",
      "Name: rating, dtype: int64\n"
     ]
    },
    {
     "data": {
      "text/html": [
       "<div>\n",
       "<style scoped>\n",
       "    .dataframe tbody tr th:only-of-type {\n",
       "        vertical-align: middle;\n",
       "    }\n",
       "\n",
       "    .dataframe tbody tr th {\n",
       "        vertical-align: top;\n",
       "    }\n",
       "\n",
       "    .dataframe thead th {\n",
       "        text-align: right;\n",
       "    }\n",
       "</style>\n",
       "<table border=\"1\" class=\"dataframe\">\n",
       "  <thead>\n",
       "    <tr style=\"text-align: right;\">\n",
       "      <th></th>\n",
       "      <th>comments</th>\n",
       "      <th>rating</th>\n",
       "    </tr>\n",
       "  </thead>\n",
       "  <tbody>\n",
       "    <tr>\n",
       "      <th>0</th>\n",
       "      <td>I have used this service before and was satisf...</td>\n",
       "      <td>negative</td>\n",
       "    </tr>\n",
       "    <tr>\n",
       "      <th>1</th>\n",
       "      <td>First time I tried using them the driver was n...</td>\n",
       "      <td>negative</td>\n",
       "    </tr>\n",
       "    <tr>\n",
       "      <th>2</th>\n",
       "      <td>Driver picked me up on time at 6AM and even kn...</td>\n",
       "      <td>positive</td>\n",
       "    </tr>\n",
       "    <tr>\n",
       "      <th>3</th>\n",
       "      <td>First time using this taxi and limo company as...</td>\n",
       "      <td>positive</td>\n",
       "    </tr>\n",
       "    <tr>\n",
       "      <th>4</th>\n",
       "      <td>Great experience. Driver was early and was ver...</td>\n",
       "      <td>positive</td>\n",
       "    </tr>\n",
       "  </tbody>\n",
       "</table>\n",
       "</div>"
      ],
      "text/plain": [
       "                                            comments    rating\n",
       "0  I have used this service before and was satisf...  negative\n",
       "1  First time I tried using them the driver was n...  negative\n",
       "2  Driver picked me up on time at 6AM and even kn...  positive\n",
       "3  First time using this taxi and limo company as...  positive\n",
       "4  Great experience. Driver was early and was ver...  positive"
      ]
     },
     "execution_count": 9,
     "metadata": {},
     "output_type": "execute_result"
    }
   ],
   "source": [
    "# The dataframe dataset_A has the data obtained from csv containing Health and Medical reviews\n",
    "dataset_A = pd.read_csv('Health_Medical.csv')\n",
    "# We check the dimensions of the Health and Medical review data that we have\n",
    "print('Dimensions of the Health and Medical dataset: '+str(dataset_A.shape))\n",
    "print('\\n')\n",
    "# We also check the count of reviews in the Health and Medical dataset for each label, i.e. postive or negative\n",
    "print(dataset_A.groupby('rating')['rating'].count())\n",
    "# A preview of the data is shown\n",
    "dataset_A.head()"
   ]
  },
  {
   "cell_type": "code",
   "execution_count": 10,
   "metadata": {},
   "outputs": [
    {
     "name": "stdout",
     "output_type": "stream",
     "text": [
      "Dimensions of the Automotive dataset: (1455, 2)\n",
      "\n",
      "\n",
      "rating\n",
      "negative    482\n",
      "positive    973\n",
      "Name: rating, dtype: int64\n"
     ]
    },
    {
     "data": {
      "text/html": [
       "<div>\n",
       "<style scoped>\n",
       "    .dataframe tbody tr th:only-of-type {\n",
       "        vertical-align: middle;\n",
       "    }\n",
       "\n",
       "    .dataframe tbody tr th {\n",
       "        vertical-align: top;\n",
       "    }\n",
       "\n",
       "    .dataframe thead th {\n",
       "        text-align: right;\n",
       "    }\n",
       "</style>\n",
       "<table border=\"1\" class=\"dataframe\">\n",
       "  <thead>\n",
       "    <tr style=\"text-align: right;\">\n",
       "      <th></th>\n",
       "      <th>comments</th>\n",
       "      <th>rating</th>\n",
       "    </tr>\n",
       "  </thead>\n",
       "  <tbody>\n",
       "    <tr>\n",
       "      <th>0</th>\n",
       "      <td>I arrived at 3 PM and the dealership closed at...</td>\n",
       "      <td>positive</td>\n",
       "    </tr>\n",
       "    <tr>\n",
       "      <th>1</th>\n",
       "      <td>I dropped my car off on a Wednesday morning fo...</td>\n",
       "      <td>negative</td>\n",
       "    </tr>\n",
       "    <tr>\n",
       "      <th>2</th>\n",
       "      <td>My parents have been buying cars off of Donna ...</td>\n",
       "      <td>positive</td>\n",
       "    </tr>\n",
       "    <tr>\n",
       "      <th>3</th>\n",
       "      <td>I recently bought another car from Donna Dunni...</td>\n",
       "      <td>positive</td>\n",
       "    </tr>\n",
       "    <tr>\n",
       "      <th>4</th>\n",
       "      <td>I had to schedule an appointment due to the ai...</td>\n",
       "      <td>positive</td>\n",
       "    </tr>\n",
       "  </tbody>\n",
       "</table>\n",
       "</div>"
      ],
      "text/plain": [
       "                                            comments    rating\n",
       "0  I arrived at 3 PM and the dealership closed at...  positive\n",
       "1  I dropped my car off on a Wednesday morning fo...  negative\n",
       "2  My parents have been buying cars off of Donna ...  positive\n",
       "3  I recently bought another car from Donna Dunni...  positive\n",
       "4  I had to schedule an appointment due to the ai...  positive"
      ]
     },
     "execution_count": 10,
     "metadata": {},
     "output_type": "execute_result"
    }
   ],
   "source": [
    "# The dataframe dataset_B has the data obtained from csv containing Automotive reviews\n",
    "dataset_B = pd.read_csv('Automotive.csv')\n",
    "# We check the dimensions of the Automotive review data that we have\n",
    "print('Dimensions of the Automotive dataset: '+str(dataset_B.shape))\n",
    "print('\\n')\n",
    "# We also check the count of reviews in the Automotive dataset for each label, i.e. postive or negative\n",
    "print(dataset_B.groupby('rating')['rating'].count())\n",
    "# A preview of the data is shown\n",
    "dataset_B.head()"
   ]
  },
  {
   "cell_type": "markdown",
   "metadata": {},
   "source": [
    "## Task 2: Applying the pre-processing steps and building the classifier model"
   ]
  },
  {
   "cell_type": "markdown",
   "metadata": {},
   "source": [
    "To perform the preprocessing steps, we have used nltk packages. Some of the preprocessing steps done are as follows\n",
    "<br/>&emsp;&emsp;&emsp;&emsp;Tokenization\n",
    "<br/>&emsp;&emsp;&emsp;&emsp;Removal of punctuations\n",
    "<br/>&emsp;&emsp;&emsp;&emsp;Conversion to lower case\n",
    "<br/>&emsp;&emsp;&emsp;&emsp;Removal of stop words\n",
    "<br/><br/>\n",
    "From the reviews in this category, apply appropriate preprocessing steps to create a numeric representation of the data, suitable for classification.\n",
    "Build a classification model using a classifier of your choice, to distinguish between “positive” and “negative” reviews.\n",
    "Test the predictions of the classification model using an appropriate evaluation strategy. Report and discuss the evaluation results in your notebook.\n",
    "\n",
    "We then use this preprocessed data to build the classifier models. We build a differnet classifier for each category of reviews to classify the positive and negative reviews. After building this classifier, we use an evaluation stategy to test the predictions for each of the classifiers. The evaluation strategy used in this assignment is the 10-fold cross-validation."
   ]
  },
  {
   "cell_type": "code",
   "execution_count": 11,
   "metadata": {},
   "outputs": [],
   "source": [
    "# The preprocess_reviews function is used to handle the pre-processing of all the reviews in the webpage\n",
    "# In turn, it calls the preprocess_text function to pre-process the reviews one by one\n",
    "def preprocess_reviews(dataset):\n",
    "    for indx, comments in enumerate(dataset['comments']):\n",
    "        dataset['comments'][indx] = preprocess_text(comments)\n",
    "\n",
    "# The preprocess_text function is called to handle the preprocessing steps for each review individually\n",
    "def preprocess_text(text):\n",
    "    # The data that is passed as the input is first converted to lowercase to standardize it\n",
    "    # We then tokenize this data into individual tokens\n",
    "    tokenized_words = word_tokenize(text.lower())\n",
    "    # We remove the words which are not alpha-numeric like punctuations\n",
    "    normalised_words = [word for word in tokenized_words if word.isalnum()]\n",
    "    # We remove the stopwords in the corpus like 'is', 'an', etc. as they do not contribute to the efficiency of the classifier\n",
    "    return ' '.join([word for word in normalised_words if word.lower() not in stopwords.words('english')])"
   ]
  },
  {
   "cell_type": "code",
   "execution_count": 12,
   "metadata": {},
   "outputs": [
    {
     "data": {
      "text/html": [
       "<div>\n",
       "<style scoped>\n",
       "    .dataframe tbody tr th:only-of-type {\n",
       "        vertical-align: middle;\n",
       "    }\n",
       "\n",
       "    .dataframe tbody tr th {\n",
       "        vertical-align: top;\n",
       "    }\n",
       "\n",
       "    .dataframe thead th {\n",
       "        text-align: right;\n",
       "    }\n",
       "</style>\n",
       "<table border=\"1\" class=\"dataframe\">\n",
       "  <thead>\n",
       "    <tr style=\"text-align: right;\">\n",
       "      <th></th>\n",
       "      <th>comments</th>\n",
       "      <th>rating</th>\n",
       "    </tr>\n",
       "  </thead>\n",
       "  <tbody>\n",
       "    <tr>\n",
       "      <th>0</th>\n",
       "      <td>used service satisfied june 20 prearranged via...</td>\n",
       "      <td>negative</td>\n",
       "    </tr>\n",
       "    <tr>\n",
       "      <th>1</th>\n",
       "      <td>first time tried using driver nowhere found ca...</td>\n",
       "      <td>negative</td>\n",
       "    </tr>\n",
       "    <tr>\n",
       "      <th>2</th>\n",
       "      <td>driver picked time 6am even knocked door inste...</td>\n",
       "      <td>positive</td>\n",
       "    </tr>\n",
       "    <tr>\n",
       "      <th>3</th>\n",
       "      <td>first time using taxi limo company used others...</td>\n",
       "      <td>positive</td>\n",
       "    </tr>\n",
       "    <tr>\n",
       "      <th>4</th>\n",
       "      <td>great experience driver early friendly got ear...</td>\n",
       "      <td>positive</td>\n",
       "    </tr>\n",
       "  </tbody>\n",
       "</table>\n",
       "</div>"
      ],
      "text/plain": [
       "                                            comments    rating\n",
       "0  used service satisfied june 20 prearranged via...  negative\n",
       "1  first time tried using driver nowhere found ca...  negative\n",
       "2  driver picked time 6am even knocked door inste...  positive\n",
       "3  first time using taxi limo company used others...  positive\n",
       "4  great experience driver early friendly got ear...  positive"
      ]
     },
     "execution_count": 12,
     "metadata": {},
     "output_type": "execute_result"
    }
   ],
   "source": [
    "# We perform all the preprocessing steps on the reviews of the Health and Medical reviews\n",
    "preprocess_reviews(dataset_A)\n",
    "# We have displayed a few of the entries to show the difference between the data after preprocessing\n",
    "# The data before preprocessing for the Health and Medical datatset has already been displayed previously\n",
    "dataset_A.head()"
   ]
  },
  {
   "cell_type": "code",
   "execution_count": 13,
   "metadata": {},
   "outputs": [
    {
     "data": {
      "text/html": [
       "<div>\n",
       "<style scoped>\n",
       "    .dataframe tbody tr th:only-of-type {\n",
       "        vertical-align: middle;\n",
       "    }\n",
       "\n",
       "    .dataframe tbody tr th {\n",
       "        vertical-align: top;\n",
       "    }\n",
       "\n",
       "    .dataframe thead th {\n",
       "        text-align: right;\n",
       "    }\n",
       "</style>\n",
       "<table border=\"1\" class=\"dataframe\">\n",
       "  <thead>\n",
       "    <tr style=\"text-align: right;\">\n",
       "      <th></th>\n",
       "      <th>comments</th>\n",
       "      <th>rating</th>\n",
       "    </tr>\n",
       "  </thead>\n",
       "  <tbody>\n",
       "    <tr>\n",
       "      <th>0</th>\n",
       "      <td>arrived 3 pm dealership closed 6 thought left ...</td>\n",
       "      <td>positive</td>\n",
       "    </tr>\n",
       "    <tr>\n",
       "      <th>1</th>\n",
       "      <td>dropped car wednesday morning diagnostic john ...</td>\n",
       "      <td>negative</td>\n",
       "    </tr>\n",
       "    <tr>\n",
       "      <th>2</th>\n",
       "      <td>parents buying cars donna dunnivan decade alwa...</td>\n",
       "      <td>positive</td>\n",
       "    </tr>\n",
       "    <tr>\n",
       "      <th>3</th>\n",
       "      <td>recently bought another car donna dunnivan 1 c...</td>\n",
       "      <td>positive</td>\n",
       "    </tr>\n",
       "    <tr>\n",
       "      <th>4</th>\n",
       "      <td>schedule appointment due airbag recall used we...</td>\n",
       "      <td>positive</td>\n",
       "    </tr>\n",
       "  </tbody>\n",
       "</table>\n",
       "</div>"
      ],
      "text/plain": [
       "                                            comments    rating\n",
       "0  arrived 3 pm dealership closed 6 thought left ...  positive\n",
       "1  dropped car wednesday morning diagnostic john ...  negative\n",
       "2  parents buying cars donna dunnivan decade alwa...  positive\n",
       "3  recently bought another car donna dunnivan 1 c...  positive\n",
       "4  schedule appointment due airbag recall used we...  positive"
      ]
     },
     "execution_count": 13,
     "metadata": {},
     "output_type": "execute_result"
    }
   ],
   "source": [
    "# We perform all the preprocessing steps on the reviews of the Automotive reviews\n",
    "preprocess_reviews(dataset_B)\n",
    "# We have displayed a few of the entries to show the difference between the data after preprocessing\n",
    "# The data before preprocessing for the Automotive dataset has already been displayed previously\n",
    "dataset_B.head()"
   ]
  },
  {
   "cell_type": "markdown",
   "metadata": {},
   "source": [
    "### Building the classifier for the Health and Medical Review data\n",
    "\n",
    "We first apply standard text pre-processing steps to generate the document-term matrix for the reviews of Health and Medical category. For this category of reviews, we use the Logistic Regression classifier."
   ]
  },
  {
   "cell_type": "code",
   "execution_count": 14,
   "metadata": {},
   "outputs": [
    {
     "data": {
      "text/plain": [
       "(1430, 10618)"
      ]
     },
     "execution_count": 14,
     "metadata": {},
     "output_type": "execute_result"
    }
   ],
   "source": [
    "tfidf_vectorizer = TfidfVectorizer()\n",
    "X_A = tfidf_vectorizer.fit_transform(dataset_A['comments'])\n",
    "# We set the target value for the classifier\n",
    "target_A = dataset_A['rating']\n",
    "X_A.shape"
   ]
  },
  {
   "cell_type": "code",
   "execution_count": 15,
   "metadata": {},
   "outputs": [
    {
     "name": "stdout",
     "output_type": "stream",
     "text": [
      "The training set for Health and Medical reviews has 1001 examples\n",
      "The test set for Health and Medical reviews has 429 examples\n"
     ]
    }
   ],
   "source": [
    "# We partition the data to use for the classifier. We use a split of 70% training and 30% test data\n",
    "data_A_train, data_A_test, target_A_train, target_A_test = train_test_split(X_A, target_A, test_size=0.3)\n",
    "print(\"The training set for Health and Medical reviews has %d examples\" % data_A_train.shape[0] )\n",
    "print(\"The test set for Health and Medical reviews has %d examples\" % data_A_test.shape[0] )"
   ]
  },
  {
   "cell_type": "code",
   "execution_count": 16,
   "metadata": {},
   "outputs": [
    {
     "name": "stdout",
     "output_type": "stream",
     "text": [
      "LogisticRegression(C=1.0, class_weight=None, dual=False, fit_intercept=True,\n",
      "          intercept_scaling=1, max_iter=100, multi_class='warn',\n",
      "          n_jobs=None, penalty='l2', random_state=None, solver='liblinear',\n",
      "          tol=0.0001, verbose=0, warm_start=False)\n"
     ]
    }
   ],
   "source": [
    "# For the purpose of classification for the Health and Medical reviews, we use Logistic Regression\n",
    "model_A = linear_model.LogisticRegression(solver='liblinear')\n",
    "model_A.fit(data_A_train, target_A_train)\n",
    "print(model_A)"
   ]
  },
  {
   "cell_type": "code",
   "execution_count": 17,
   "metadata": {},
   "outputs": [
    {
     "name": "stdout",
     "output_type": "stream",
     "text": [
      "[[211  16]\n",
      " [ 41 161]]\n"
     ]
    }
   ],
   "source": [
    "# After training the model, we perform the actual prediction\n",
    "predicted_A = model_A.predict(data_A_test)\n",
    "# We build a confusion matrix so that we can see the classifiers performancee\n",
    "cm_A = confusion_matrix(target_A_test, predicted_A,labels=['positive','negative'])\n",
    "print(cm_A)"
   ]
  },
  {
   "cell_type": "code",
   "execution_count": 27,
   "metadata": {},
   "outputs": [
    {
     "name": "stdout",
     "output_type": "stream",
     "text": [
      "Accuracy of the Logistic Regression classifier = 0.87\n",
      "Precision (Positive) = 0.84\n",
      "Recall (Positive) = 0.93\n",
      "F1 (Positive) = 0.88\n"
     ]
    }
   ],
   "source": [
    "# We use metrics to check the performance of the Logistic regression clasifier on the Health and Medical data\n",
    "CategoryA_accuracy_LogReg = accuracy_score(target_A_test, predicted_A)\n",
    "print(\"Accuracy of the Logistic Regression classifier = %.2f\" % CategoryA_accuracy_LogReg )\n",
    "# We indicate that we are interested in the Positive class here, which is labelled as \"positive\"\n",
    "print(\"Precision (Positive) = %.2f\" % precision_score(target_A_test, predicted_A, pos_label='positive') )\n",
    "print(\"Recall (Positive) = %.2f\" % recall_score(target_A_test, predicted_A, pos_label='positive') )\n",
    "print(\"F1 (Positive) = %.2f\" % f1_score(target_A_test, predicted_A, pos_label='positive') )"
   ]
  },
  {
   "cell_type": "code",
   "execution_count": 19,
   "metadata": {},
   "outputs": [
    {
     "name": "stdout",
     "output_type": "stream",
     "text": [
      "              precision    recall  f1-score   support\n",
      "\n",
      "    negative       0.91      0.80      0.85       202\n",
      "    positive       0.84      0.93      0.88       227\n",
      "\n",
      "   micro avg       0.87      0.87      0.87       429\n",
      "   macro avg       0.87      0.86      0.87       429\n",
      "weighted avg       0.87      0.87      0.87       429\n",
      "\n"
     ]
    }
   ],
   "source": [
    "# A summary of the statisitcs is geenrated using scikit-learn's built in methods\n",
    "print(classification_report(target_A_test, predicted_A, target_names=[\"negative\",\"positive\"]))"
   ]
  },
  {
   "cell_type": "markdown",
   "metadata": {},
   "source": [
    "A better evaluation mechanism would be to use the k-fold cross-validation approach. In the standard split, we are ignoring a part of the dataset. In this cross validation process, every portion of the data has the ability to be part of the training set at one point."
   ]
  },
  {
   "cell_type": "code",
   "execution_count": 20,
   "metadata": {},
   "outputs": [
    {
     "name": "stdout",
     "output_type": "stream",
     "text": [
      "Logistic Regression classifier for Health and Medical reviews: Mean cross-validation accuracy = 0.87\n"
     ]
    }
   ],
   "source": [
    "# Cross validation for the Logistic Regression approach used for classifying Health and Medical reviews\n",
    "acc_scores_A =  cross_val_score(model_A, X_A, target_A, cv=10, scoring=\"accuracy\")\n",
    "print(\"Logistic Regression classifier for Health and Medical reviews: Mean cross-validation accuracy = %.2f\" % acc_scores_A.mean() )"
   ]
  },
  {
   "cell_type": "markdown",
   "metadata": {},
   "source": [
    "### Building the classifier for the Automotive Review data\n",
    "\n",
    "We apply standard text pre-processing steps to generate the document-term matrix for the reviews of Automotive category.  For this category of reviews, we use the K-Nearest Neighbor (KNN) classifier."
   ]
  },
  {
   "cell_type": "code",
   "execution_count": 21,
   "metadata": {},
   "outputs": [
    {
     "data": {
      "text/plain": [
       "(1455, 7843)"
      ]
     },
     "execution_count": 21,
     "metadata": {},
     "output_type": "execute_result"
    }
   ],
   "source": [
    "tfidf_vectorizer = TfidfVectorizer()\n",
    "X_B = tfidf_vectorizer.fit_transform(dataset_B['comments'])\n",
    "# We set the target value for the classifier\n",
    "target_B = dataset_B['rating']\n",
    "X_B.shape"
   ]
  },
  {
   "cell_type": "code",
   "execution_count": 22,
   "metadata": {},
   "outputs": [
    {
     "name": "stdout",
     "output_type": "stream",
     "text": [
      "The training set for Automotive reviews has 1018 examples\n",
      "The test set for Automotive reviews has 437 examples\n"
     ]
    }
   ],
   "source": [
    "# We partition the data to use for the classifier. We use a split of 70% training and 30% test data\n",
    "data_B_train, data_B_test, target_B_train, target_B_test = train_test_split(X_B, target_B, test_size=0.3)\n",
    "print(\"The training set for Automotive reviews has %d examples\" % data_B_train.shape[0] )\n",
    "print(\"The test set for Automotive reviews has %d examples\" % data_B_test.shape[0] )"
   ]
  },
  {
   "cell_type": "code",
   "execution_count": 23,
   "metadata": {},
   "outputs": [
    {
     "name": "stdout",
     "output_type": "stream",
     "text": [
      "KNeighborsClassifier(algorithm='auto', leaf_size=30, metric='minkowski',\n",
      "           metric_params=None, n_jobs=None, n_neighbors=3, p=2,\n",
      "           weights='uniform')\n"
     ]
    }
   ],
   "source": [
    "# For the purpose of classification for the Automotive reviews, we use KNN where n=3\n",
    "model_B = KNeighborsClassifier(n_neighbors=3)\n",
    "model_B.fit(data_B_train, target_B_train)\n",
    "print(model_B)"
   ]
  },
  {
   "cell_type": "code",
   "execution_count": 24,
   "metadata": {},
   "outputs": [
    {
     "name": "stdout",
     "output_type": "stream",
     "text": [
      "[[256  31]\n",
      " [ 60  90]]\n"
     ]
    }
   ],
   "source": [
    "# After training the model, we perform the actual prediction\n",
    "predicted_B = model_B.predict(data_B_test)\n",
    "# We build a confusion matrix so that we can see the classifiers performancee\n",
    "cm_B = confusion_matrix(target_B_test, predicted_B,labels=['positive','negative'])\n",
    "print(cm_B)"
   ]
  },
  {
   "cell_type": "code",
   "execution_count": 28,
   "metadata": {},
   "outputs": [
    {
     "name": "stdout",
     "output_type": "stream",
     "text": [
      "Accuracy of the KNN classifier = 0.79\n",
      "Precision (Positive) = 0.81\n",
      "Recall (Positive) = 0.89\n",
      "F1 (Positive) = 0.85\n"
     ]
    }
   ],
   "source": [
    "# We use metrics to check the performance of the KNN clasifier on the Automotive data\n",
    "CategoryB_accuracy_KNN = accuracy_score(target_B_test, predicted_B)\n",
    "print(\"Accuracy of the KNN classifier = %.2f\" % CategoryB_accuracy_KNN )\n",
    "# We indicate that we are interested in the Positive class here, which is labelled as \"positive\"\n",
    "print(\"Precision (Positive) = %.2f\" % precision_score(target_B_test, predicted_B, pos_label='positive') )\n",
    "print(\"Recall (Positive) = %.2f\" % recall_score(target_B_test, predicted_B, pos_label='positive') )\n",
    "print(\"F1 (Positive) = %.2f\" % f1_score(target_B_test, predicted_B, pos_label='positive') )"
   ]
  },
  {
   "cell_type": "markdown",
   "metadata": {},
   "source": [
    "A better evaluation mechanism would be to use the k-fold cross-validation approach. In the standard split, we are ignoring a part of the dataset. In this cross validation process, every portion of the data has the ability to be part of the training set at one point."
   ]
  },
  {
   "cell_type": "code",
   "execution_count": 26,
   "metadata": {},
   "outputs": [
    {
     "name": "stdout",
     "output_type": "stream",
     "text": [
      "KNN classifier for Automotive reviews: Mean cross-validation accuracy = 0.73\n"
     ]
    }
   ],
   "source": [
    "# Cross validation for the KNN approach used for classifying Automotive reviews\n",
    "acc_scores_B =  cross_val_score(model_B, X_B, target_B, cv=10, scoring=\"accuracy\")\n",
    "print(\"KNN classifier for Automotive reviews: Mean cross-validation accuracy = %.2f\" % acc_scores_B.mean() )"
   ]
  },
  {
   "cell_type": "markdown",
   "metadata": {},
   "source": [
    "## Discussion of results and evaluation strategy"
   ]
  },
  {
   "cell_type": "markdown",
   "metadata": {},
   "source": [
    "## Task 3: Performance of classification models across categories"
   ]
  },
  {
   "cell_type": "markdown",
   "metadata": {},
   "source": [
    "In this section, we will use the classification model trained on some data from one category to test it with the remaining data from the same category, as well as, test it with the entire data from the other category. We have already trained two different classifiers on the two categories of reviews chosen. The two classifiers used in the previous task will be used to check the performance across categories."
   ]
  },
  {
   "cell_type": "markdown",
   "metadata": {},
   "source": [
    "For the Health and Medical review category, we have chosen Linear Regression Classifier with a train-test split of 30% as test data.\n",
    "Using this classifier model on the test data of the Health and Medical Category itself, we have an accuracy of $$$$$$$$\n",
    "We will now use this classifier model to test the data of the Automotive Category\n",
    "\n"
   ]
  },
  {
   "cell_type": "code",
   "execution_count": 49,
   "metadata": {},
   "outputs": [],
   "source": [
    "dataset_C=pd.concat([dataset_A,dataset_B])"
   ]
  },
  {
   "cell_type": "code",
   "execution_count": 51,
   "metadata": {},
   "outputs": [
    {
     "data": {
      "text/plain": [
       "(2885, 13690)"
      ]
     },
     "execution_count": 51,
     "metadata": {},
     "output_type": "execute_result"
    }
   ],
   "source": [
    "tfidf_vectorizer = TfidfVectorizer()\n",
    "X_C = tfidf_vectorizer.fit_transform(dataset_C['comments'])\n",
    "# We set the target value for the classifier\n",
    "target_C = dataset_C['rating']\n",
    "X_C.shape"
   ]
  },
  {
   "cell_type": "code",
   "execution_count": 58,
   "metadata": {},
   "outputs": [],
   "source": [
    "X_category_A = X_C[:1430]\n",
    "y_category_A = target_C[:1430]\n",
    "X_category_B = X_C[1431:]\n",
    "y_category_B = target_C[1431:]"
   ]
  },
  {
   "cell_type": "code",
   "execution_count": 60,
   "metadata": {},
   "outputs": [
    {
     "name": "stdout",
     "output_type": "stream",
     "text": [
      "The training set for Health and Medical reviews has 1001 examples\n",
      "The test set for Health and Medical reviews has 429 examples\n"
     ]
    }
   ],
   "source": [
    "# We partition the data to use for the classifier. We use a split of 70% training and 30% test data\n",
    "X_train_category_A, X_test_category_A, y_train_category_A, y_test_category_A = train_test_split(X_category_A, \n",
    "                                                                                                y_category_A, \n",
    "                                                                                                test_size=0.3)\n",
    "print(\"The training set for Health and Medical reviews has %d examples\" % X_train_category_A.shape[0] )\n",
    "print(\"The test set for Health and Medical reviews has %d examples\" % X_test_category_A.shape[0] )"
   ]
  },
  {
   "cell_type": "code",
   "execution_count": 61,
   "metadata": {},
   "outputs": [
    {
     "name": "stdout",
     "output_type": "stream",
     "text": [
      "LogisticRegression(C=1.0, class_weight=None, dual=False, fit_intercept=True,\n",
      "          intercept_scaling=1, max_iter=100, multi_class='warn',\n",
      "          n_jobs=None, penalty='l2', random_state=None, solver='liblinear',\n",
      "          tol=0.0001, verbose=0, warm_start=False)\n"
     ]
    }
   ],
   "source": [
    "# For the purpose of classification for the Health and Medical reviews, we use Logistic Regression\n",
    "logreg_A = linear_model.LogisticRegression(solver='liblinear')\n",
    "logreg_A.fit(X_train_category_A, y_train_category_A)\n",
    "print(logreg_A)"
   ]
  },
  {
   "cell_type": "code",
   "execution_count": 62,
   "metadata": {},
   "outputs": [
    {
     "name": "stdout",
     "output_type": "stream",
     "text": [
      "[[230  12]\n",
      " [ 39 148]]\n"
     ]
    }
   ],
   "source": [
    "# After training the model, we perform the actual prediction\n",
    "Prediction_same_LogReg = logreg_A.predict(X_test_category_A)\n",
    "# We build a confusion matrix so that we can see the classifiers performancee\n",
    "cm_A = confusion_matrix(y_test_category_A, Prediction_same_LogReg,labels=['positive','negative'])\n",
    "print(cm_A)"
   ]
  },
  {
   "cell_type": "code",
   "execution_count": 63,
   "metadata": {},
   "outputs": [
    {
     "name": "stdout",
     "output_type": "stream",
     "text": [
      "Accuracy of the Logistic Regression classifier = 0.88\n",
      "Precision (Positive) = 0.86\n",
      "Recall (Positive) = 0.95\n",
      "F1 (Positive) = 0.90\n"
     ]
    }
   ],
   "source": [
    "# We use metrics to check the performance of the Logistic regression clasifier on the Health and Medical data\n",
    "accuracy_same_LogReg = accuracy_score(y_test_category_A, Prediction_same_LogReg)\n",
    "print(\"Accuracy of the Logistic Regression classifier = %.2f\" % accuracy_same_LogReg )\n",
    "# We indicate that we are interested in the Positive class here, which is labelled as \"positive\"\n",
    "print(\"Precision (Positive) = %.2f\" % precision_score(y_test_category_A, Prediction_same_LogReg, pos_label='positive') )\n",
    "print(\"Recall (Positive) = %.2f\" % recall_score(y_test_category_A, Prediction_same_LogReg, pos_label='positive') )\n",
    "print(\"F1 (Positive) = %.2f\" % f1_score(y_test_category_A, Prediction_same_LogReg, pos_label='positive') )"
   ]
  },
  {
   "cell_type": "code",
   "execution_count": 64,
   "metadata": {},
   "outputs": [
    {
     "name": "stdout",
     "output_type": "stream",
     "text": [
      "              precision    recall  f1-score   support\n",
      "\n",
      "    negative       0.93      0.79      0.85       187\n",
      "    positive       0.86      0.95      0.90       242\n",
      "\n",
      "   micro avg       0.88      0.88      0.88       429\n",
      "   macro avg       0.89      0.87      0.88       429\n",
      "weighted avg       0.89      0.88      0.88       429\n",
      "\n"
     ]
    }
   ],
   "source": [
    "# A summary of the statisitcs is generated using scikit-learn's built in methods\n",
    "print(classification_report(y_test_category_A, Prediction_same_LogReg, target_names=[\"negative\",\"positive\"]))"
   ]
  },
  {
   "cell_type": "code",
   "execution_count": 69,
   "metadata": {},
   "outputs": [
    {
     "name": "stdout",
     "output_type": "stream",
     "text": [
      "[[230  12]\n",
      " [ 39 148]]\n"
     ]
    }
   ],
   "source": [
    "# After training the model, we perform the actual prediction\n",
    "Prediction_diff_LogReg = logreg_A.predict(X_category_B)\n",
    "# We build a confusion matrix so that we can see the classifiers performancee\n",
    "cm_A = confusion_matrix(y_test_category_A, Prediction_same_LogReg,labels=['positive','negative'])\n",
    "print(cm_A)"
   ]
  },
  {
   "cell_type": "code",
   "execution_count": 71,
   "metadata": {},
   "outputs": [
    {
     "name": "stdout",
     "output_type": "stream",
     "text": [
      "Accuracy of the Logistic Regression classifier = 0.84\n",
      "Precision (Positive) = 0.96\n",
      "Recall (Positive) = 0.79\n",
      "F1 (Positive) = 0.87\n"
     ]
    }
   ],
   "source": [
    "# We use metrics to check the performance of the Logistic regression clasifier on the Automotive data\n",
    "accuracy_diff_LogReg = accuracy_score(y_category_B, Prediction_diff_LogReg)\n",
    "print(\"Accuracy of the Logistic Regression classifier = %.2f\" % accuracy_diff_LogReg )\n",
    "# We indicate that we are interested in the Positive class here, which is labelled as \"positive\"\n",
    "print(\"Precision (Positive) = %.2f\" % precision_score(y_category_B, Prediction_diff_LogReg, pos_label='positive') )\n",
    "print(\"Recall (Positive) = %.2f\" % recall_score(y_category_B, Prediction_diff_LogReg, pos_label='positive') )\n",
    "print(\"F1 (Positive) = %.2f\" % f1_score(y_category_B, Prediction_diff_LogReg, pos_label='positive') )"
   ]
  },
  {
   "cell_type": "code",
   "execution_count": null,
   "metadata": {},
   "outputs": [],
   "source": []
  },
  {
   "cell_type": "code",
   "execution_count": null,
   "metadata": {},
   "outputs": [],
   "source": []
  },
  {
   "cell_type": "code",
   "execution_count": null,
   "metadata": {},
   "outputs": [],
   "source": []
  },
  {
   "cell_type": "code",
   "execution_count": null,
   "metadata": {},
   "outputs": [],
   "source": []
  },
  {
   "cell_type": "markdown",
   "metadata": {},
   "source": [
    "\n",
    "\n",
    "For the Automotive review category, we have chosen K-Nearest Neighbor Classifier with K=3 and a train-test split of 30% as test data.\n",
    "Using this classifier model on the test data of the Health and Medical Category, we have an accuracy of $$$$$$$$"
   ]
  },
  {
   "cell_type": "code",
   "execution_count": null,
   "metadata": {},
   "outputs": [],
   "source": []
  },
  {
   "cell_type": "code",
   "execution_count": null,
   "metadata": {},
   "outputs": [],
   "source": []
  },
  {
   "cell_type": "code",
   "execution_count": null,
   "metadata": {},
   "outputs": [],
   "source": []
  },
  {
   "cell_type": "code",
   "execution_count": null,
   "metadata": {},
   "outputs": [],
   "source": []
  },
  {
   "cell_type": "code",
   "execution_count": null,
   "metadata": {},
   "outputs": [],
   "source": []
  },
  {
   "cell_type": "code",
   "execution_count": null,
   "metadata": {},
   "outputs": [],
   "source": []
  }
 ],
 "metadata": {
  "kernelspec": {
   "display_name": "Python 3",
   "language": "python",
   "name": "python3"
  },
  "language_info": {
   "codemirror_mode": {
    "name": "ipython",
    "version": 3
   },
   "file_extension": ".py",
   "mimetype": "text/x-python",
   "name": "python",
   "nbconvert_exporter": "python",
   "pygments_lexer": "ipython3",
   "version": "3.7.1"
  }
 },
 "nbformat": 4,
 "nbformat_minor": 2
}
